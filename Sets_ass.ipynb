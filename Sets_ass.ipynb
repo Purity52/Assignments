{
 "cells": [
  {
   "cell_type": "markdown",
   "id": "1461e7bc",
   "metadata": {},
   "source": [
    "#### Sets Assignment\n",
    "\n",
    "- create sets A, B and C and universal set U\n"
   ]
  },
  {
   "cell_type": "code",
   "execution_count": 1,
   "id": "9ac13744",
   "metadata": {},
   "outputs": [],
   "source": [
    "import pandas as pd"
   ]
  },
  {
   "cell_type": "code",
   "execution_count": 2,
   "id": "6f293a19",
   "metadata": {},
   "outputs": [],
   "source": [
    "import math"
   ]
  },
  {
   "cell_type": "code",
   "execution_count": null,
   "id": "f2e2c8b7",
   "metadata": {},
   "outputs": [],
   "source": [
    "#Given the following sets:\n",
    "U={1,2,3,4,5,6,7,8,9,10,11,12}\n",
    "A={2,4,6,8,10}\n",
    "B={3,8,11,12}\n",
    "C={2,3,6,8,9,11}\n"
   ]
  },
  {
   "cell_type": "code",
   "execution_count": 4,
   "id": "3d1213ec",
   "metadata": {},
   "outputs": [
    {
     "data": {
      "text/plain": [
       "\"Type A: <class 'set'>, A: {2, 4, 6, 8, 10}\""
      ]
     },
     "execution_count": 4,
     "metadata": {},
     "output_type": "execute_result"
    }
   ],
   "source": [
    "#Create a set\n",
    "f'Type A: {type(A)}, A: {A}'"
   ]
  },
  {
   "cell_type": "code",
   "execution_count": 5,
   "id": "6574af21",
   "metadata": {},
   "outputs": [
    {
     "data": {
      "text/plain": [
       "\"Type B: <class 'set'>, A: {8, 3, 11, 12}\""
      ]
     },
     "execution_count": 5,
     "metadata": {},
     "output_type": "execute_result"
    }
   ],
   "source": [
    "f'Type B: {type(B)}, A: {B}'"
   ]
  },
  {
   "cell_type": "code",
   "execution_count": 6,
   "id": "3b4d3a52",
   "metadata": {},
   "outputs": [
    {
     "data": {
      "text/plain": [
       "\"Type C: <class 'set'>, A: {2, 3, 6, 8, 9, 11}\""
      ]
     },
     "execution_count": 6,
     "metadata": {},
     "output_type": "execute_result"
    }
   ],
   "source": [
    "f'Type C: {type(C)}, A: {C}'"
   ]
  },
  {
   "cell_type": "code",
   "execution_count": 7,
   "id": "df2a75af",
   "metadata": {},
   "outputs": [
    {
     "data": {
      "text/plain": [
       "\"Type U: <class 'set'>, A: {1, 2, 3, 4, 5, 6, 7, 8, 9, 10, 11, 12}\""
      ]
     },
     "execution_count": 7,
     "metadata": {},
     "output_type": "execute_result"
    }
   ],
   "source": [
    "f'Type U: {type(U)}, A: {U}'"
   ]
  },
  {
   "cell_type": "code",
   "execution_count": 8,
   "id": "9f58f935",
   "metadata": {},
   "outputs": [
    {
     "data": {
      "text/plain": [
       "{8}"
      ]
     },
     "execution_count": 8,
     "metadata": {},
     "output_type": "execute_result"
    }
   ],
   "source": [
    "#Q1. find the intersection of A and B\n",
    "\n",
    "A & B"
   ]
  },
  {
   "cell_type": "code",
   "execution_count": 9,
   "id": "d5034556",
   "metadata": {},
   "outputs": [
    {
     "data": {
      "text/plain": [
       "{2, 3, 4, 6, 8, 9, 10, 11}"
      ]
     },
     "execution_count": 9,
     "metadata": {},
     "output_type": "execute_result"
    }
   ],
   "source": [
    "#Q2. find the union of A and C\n",
    "A|C"
   ]
  },
  {
   "cell_type": "code",
   "execution_count": 10,
   "id": "d4afcb3f",
   "metadata": {},
   "outputs": [
    {
     "data": {
      "text/plain": [
       "{1, 3, 5, 7, 9, 11, 12}"
      ]
     },
     "execution_count": 10,
     "metadata": {},
     "output_type": "execute_result"
    }
   ],
   "source": [
    "#Q3. find the absolute complement of A\n",
    "U-A"
   ]
  },
  {
   "cell_type": "code",
   "execution_count": 11,
   "id": "a208e93b",
   "metadata": {},
   "outputs": [
    {
     "data": {
      "text/plain": [
       "{1, 2, 4, 5, 6, 7, 9, 10}"
      ]
     },
     "execution_count": 11,
     "metadata": {},
     "output_type": "execute_result"
    }
   ],
   "source": [
    "#Q4.find the absolute complement of B\n",
    "U-B"
   ]
  },
  {
   "cell_type": "code",
   "execution_count": 12,
   "id": "c6ec6a9e",
   "metadata": {},
   "outputs": [
    {
     "data": {
      "text/plain": [
       "{1, 5, 7, 9}"
      ]
     },
     "execution_count": 12,
     "metadata": {},
     "output_type": "execute_result"
    }
   ],
   "source": [
    "#Q5. find absolute complement of A u B\n",
    "U-(A|B)"
   ]
  },
  {
   "cell_type": "code",
   "execution_count": 13,
   "id": "786155c8",
   "metadata": {},
   "outputs": [
    {
     "data": {
      "text/plain": [
       "{1, 5, 7, 9}"
      ]
     },
     "execution_count": 13,
     "metadata": {},
     "output_type": "execute_result"
    }
   ],
   "source": [
    "U-(A.union (B))"
   ]
  },
  {
   "cell_type": "code",
   "execution_count": 14,
   "id": "2c7f7458",
   "metadata": {},
   "outputs": [
    {
     "data": {
      "text/plain": [
       "{12}"
      ]
     },
     "execution_count": 14,
     "metadata": {},
     "output_type": "execute_result"
    }
   ],
   "source": [
    "#Q6.find the intersection of B and absolute complement of C\n",
    "B & (U-C)"
   ]
  },
  {
   "cell_type": "code",
   "execution_count": 15,
   "id": "20f69512",
   "metadata": {},
   "outputs": [
    {
     "data": {
      "text/plain": [
       "{2, 4, 6, 10}"
      ]
     },
     "execution_count": 15,
     "metadata": {},
     "output_type": "execute_result"
    }
   ],
   "source": [
    "#Q7. find A\\B (A relative B) \n",
    "A-B"
   ]
  },
  {
   "cell_type": "code",
   "execution_count": 16,
   "id": "caec51d0",
   "metadata": {},
   "outputs": [
    {
     "data": {
      "text/plain": [
       "{2, 6, 8, 9}"
      ]
     },
     "execution_count": 16,
     "metadata": {},
     "output_type": "execute_result"
    }
   ],
   "source": [
    "#Q8. find C\\(B\\A)\n",
    "C-(B-A)"
   ]
  },
  {
   "cell_type": "code",
   "execution_count": 17,
   "id": "46a78f36",
   "metadata": {},
   "outputs": [
    {
     "data": {
      "text/plain": [
       "{2, 6, 8, 9}"
      ]
     },
     "execution_count": 17,
     "metadata": {},
     "output_type": "execute_result"
    }
   ],
   "source": [
    "#Q9.find (CnA) U (C\\B)\n",
    "(C & A)|(C-B)\n"
   ]
  },
  {
   "cell_type": "markdown",
   "id": "304d8d4e",
   "metadata": {},
   "source": [
    "#### Inclusion Exclusion Principle\n",
    "- Use A, B and C from exercise one to verify the inclusion exclusion principle in Python. You can use the sets A, B and C as used in the previous exercise.\n",
    " ####\n",
    "|\n",
    "A\n",
    "∪\n",
    "B\n",
    "∪\n",
    "C\n",
    "∣=∣\n",
    "A\n",
    "∣\n",
    "+\n",
    "∣\n",
    "B\n",
    "∣\n",
    "+\n",
    "∣\n",
    "C\n",
    "∣\n",
    "−\n",
    "∣\n",
    "A\n",
    "∩\n",
    "B\n",
    "∣\n",
    "−\n",
    "∣\n",
    "A\n",
    "∩\n",
    "C\n",
    "∣\n",
    "−\n",
    "∣\n",
    "B\n",
    "∩\n",
    "C\n",
    "∣\n",
    "+\n",
    "∣\n",
    "A\n",
    "∩\n",
    "B\n",
    "∩\n",
    "C\n",
    "∣\n"
   ]
  },
  {
   "cell_type": "code",
   "execution_count": 18,
   "id": "876900de",
   "metadata": {},
   "outputs": [
    {
     "name": "stdout",
     "output_type": "stream",
     "text": [
      "9\n"
     ]
    }
   ],
   "source": [
    "#left_hand_side(lhs) (AuBuC)\n",
    "lhs=len(A|B|C)\n",
    "print(lhs)\n"
   ]
  },
  {
   "cell_type": "code",
   "execution_count": 19,
   "id": "892f11f7",
   "metadata": {},
   "outputs": [
    {
     "name": "stdout",
     "output_type": "stream",
     "text": [
      "9\n"
     ]
    }
   ],
   "source": [
    "#rigth_hand_side as (rhs) Inclusion Exclusion principle,(|A|+|B|+|C|-|AnB|-|AnC|-|BnC|+|AnBnC|)\n",
    "rhs=len(A)+len(B)+len(C)-len(A & B)-len(A & C)-len(B & C)+len(A & B& C)\n",
    "print(rhs)"
   ]
  },
  {
   "cell_type": "code",
   "execution_count": 20,
   "id": "2007805d",
   "metadata": {},
   "outputs": [
    {
     "name": "stdout",
     "output_type": "stream",
     "text": [
      "True\n"
     ]
    }
   ],
   "source": [
    "print(lhs==rhs)"
   ]
  },
  {
   "cell_type": "markdown",
   "id": "527a14bf",
   "metadata": {},
   "source": [
    "#### Set operations\n",
    "- Mary is preparing for a road trip from her hometown, Boston, to Chicago. She has quite a few pets, yet luckily, so do her friends. They try to make sure that they take care of each other's pets while someone is away on a trip. A month ago, each respective person's pet collection was given by the following three sets:"
   ]
  },
  {
   "cell_type": "code",
   "execution_count": 36,
   "id": "a0f928d2",
   "metadata": {},
   "outputs": [],
   "source": [
    "Nina = set([\"Cat\",\"Dog\",\"Rabbit\",\"Donkey\",\"Parrot\", \"Goldfish\"])\n",
    "Mary = set([\"Dog\",\"Chinchilla\",\"Horse\", \"Chicken\"])\n",
    "Eve = set([\"Rabbit\", \"Turtle\", \"Goldfish\"])"
   ]
  },
  {
   "cell_type": "code",
   "execution_count": 37,
   "id": "c0c45c31",
   "metadata": {},
   "outputs": [
    {
     "name": "stdout",
     "output_type": "stream",
     "text": [
      "{'Rabbit', 'Goldfish'}\n"
     ]
    }
   ],
   "source": [
    "#Eve's turtle died, updating list\n",
    "Eve.discard(\"Turtle\")\n",
    "print(Eve)"
   ]
  },
  {
   "cell_type": "code",
   "execution_count": 38,
   "id": "e1aef8de",
   "metadata": {},
   "outputs": [
    {
     "name": "stdout",
     "output_type": "stream",
     "text": [
      "{'Donkey', 'Parrot', 'Rabbit', 'Chinchilla', 'Horse', 'Dog', 'Cat', 'Chicken', 'Goldfish'}\n"
     ]
    }
   ],
   "source": [
    "#updating Nina's list \n",
    "Nina.update(Mary)\n",
    "print(Nina)"
   ]
  },
  {
   "cell_type": "code",
   "execution_count": 39,
   "id": "6751185b",
   "metadata": {},
   "outputs": [
    {
     "name": "stdout",
     "output_type": "stream",
     "text": [
      "set()\n"
     ]
    }
   ],
   "source": [
    "#Mary clearing her list\n",
    "Mary.clear()\n",
    "print(Mary)"
   ]
  },
  {
   "cell_type": "code",
   "execution_count": 40,
   "id": "640d0e4b",
   "metadata": {},
   "outputs": [
    {
     "name": "stdout",
     "output_type": "stream",
     "text": [
      "9\n"
     ]
    }
   ],
   "source": [
    "#Number of species Nina is taking care of right now.\n",
    "species=len(Nina)\n",
    "print(species)"
   ]
  },
  {
   "cell_type": "code",
   "execution_count": 42,
   "id": "09f8e799",
   "metadata": {},
   "outputs": [
    {
     "name": "stdout",
     "output_type": "stream",
     "text": [
      "{'Donkey', 'Parrot', 'Chinchilla', 'Horse', 'Dog', 'Cat', 'Chicken'}\n"
     ]
    },
    {
     "data": {
      "text/plain": [
       "7"
      ]
     },
     "execution_count": 42,
     "metadata": {},
     "output_type": "execute_result"
    }
   ],
   "source": [
    "Nina.difference_update(Eve)\n",
    "print(Nina)\n",
    "len(Nina)"
   ]
  }
 ],
 "metadata": {
  "kernelspec": {
   "display_name": "python311_env",
   "language": "python",
   "name": "python3"
  },
  "language_info": {
   "codemirror_mode": {
    "name": "ipython",
    "version": 3
   },
   "file_extension": ".py",
   "mimetype": "text/x-python",
   "name": "python",
   "nbconvert_exporter": "python",
   "pygments_lexer": "ipython3",
   "version": "3.11.13"
  }
 },
 "nbformat": 4,
 "nbformat_minor": 5
}
