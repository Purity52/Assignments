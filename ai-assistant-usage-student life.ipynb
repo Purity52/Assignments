{
 "cells": [
  {
   "cell_type": "code",
   "execution_count": null,
   "metadata": {
    "_cell_guid": "b1076dfc-b9ad-4769-8c92-a6c4dae69d19",
    "_uuid": "8f2839f25d086af736a60e9eeb907d3b93b6e0e5",
    "execution": {
     "iopub.execute_input": "2025-08-29T15:29:04.828785Z",
     "iopub.status.busy": "2025-08-29T15:29:04.828431Z",
     "iopub.status.idle": "2025-08-29T15:29:04.856287Z",
     "shell.execute_reply": "2025-08-29T15:29:04.855180Z",
     "shell.execute_reply.started": "2025-08-29T15:29:04.828761Z"
    },
    "trusted": true
   },
   "outputs": [
    {
     "name": "stdout",
     "output_type": "stream",
     "text": [
      "/kaggle/input/ai-assistant-usage-in-student-life-synthetic/ai_assistant_usage_student_life.csv\n"
     ]
    }
   ],
   "source": [
    "import numpy as np # linear algebra\n",
    "import pandas as pd# data processing, CSV file I/O (e.g. pd.read_csv)\n",
    "import matplotlib.pyplot as plt\n",
    "import seaborn as sns\n",
    "from sklearn.preprocessing import LabelEncoder\n",
    "from sklearn import tree\n",
    "from sklearn.tree import DecisionTreeClassifier\n",
    "from sklearn.model_selection import train_test_split\n",
    "from sklearn.metrics import classification_report,confusion_matrix\n",
    "from sklearn.ensemble import RandomForestClassifier, AdaBoostClassifier, GradientBoostingClassifier, StackingClassifier\n",
    "from xgboost import XGBClassifier\n",
    "from sklearn.neighbors import KNeighborsClassifier\n",
    "\n",
    "\n",
    "\n",
    "\n",
    "\n",
    "\n"
   ]
  },
  {
   "cell_type": "markdown",
   "metadata": {},
   "source": [
    "#### Part A: Basic EDA\n"
   ]
  },
  {
   "cell_type": "code",
   "execution_count": 2,
   "metadata": {
    "execution": {
     "iopub.execute_input": "2025-08-29T15:11:32.349280Z",
     "iopub.status.busy": "2025-08-29T15:11:32.348911Z",
     "iopub.status.idle": "2025-08-29T15:11:32.461833Z",
     "shell.execute_reply": "2025-08-29T15:11:32.460559Z",
     "shell.execute_reply.started": "2025-08-29T15:11:32.349255Z"
    },
    "trusted": true
   },
   "outputs": [
    {
     "data": {
      "text/html": [
       "<div>\n",
       "<style scoped>\n",
       "    .dataframe tbody tr th:only-of-type {\n",
       "        vertical-align: middle;\n",
       "    }\n",
       "\n",
       "    .dataframe tbody tr th {\n",
       "        vertical-align: top;\n",
       "    }\n",
       "\n",
       "    .dataframe thead th {\n",
       "        text-align: right;\n",
       "    }\n",
       "</style>\n",
       "<table border=\"1\" class=\"dataframe\">\n",
       "  <thead>\n",
       "    <tr style=\"text-align: right;\">\n",
       "      <th></th>\n",
       "      <th>SessionID</th>\n",
       "      <th>StudentLevel</th>\n",
       "      <th>Discipline</th>\n",
       "      <th>SessionDate</th>\n",
       "      <th>SessionLengthMin</th>\n",
       "      <th>TotalPrompts</th>\n",
       "      <th>TaskType</th>\n",
       "      <th>AI_AssistanceLevel</th>\n",
       "      <th>FinalOutcome</th>\n",
       "      <th>UsedAgain</th>\n",
       "      <th>SatisfactionRating</th>\n",
       "    </tr>\n",
       "  </thead>\n",
       "  <tbody>\n",
       "    <tr>\n",
       "      <th>0</th>\n",
       "      <td>SESSION00001</td>\n",
       "      <td>Undergraduate</td>\n",
       "      <td>Computer Science</td>\n",
       "      <td>2024-11-03</td>\n",
       "      <td>31.20</td>\n",
       "      <td>11</td>\n",
       "      <td>Studying</td>\n",
       "      <td>2</td>\n",
       "      <td>Assignment Completed</td>\n",
       "      <td>True</td>\n",
       "      <td>1.0</td>\n",
       "    </tr>\n",
       "    <tr>\n",
       "      <th>1</th>\n",
       "      <td>SESSION00002</td>\n",
       "      <td>Undergraduate</td>\n",
       "      <td>Psychology</td>\n",
       "      <td>2024-08-25</td>\n",
       "      <td>13.09</td>\n",
       "      <td>6</td>\n",
       "      <td>Studying</td>\n",
       "      <td>3</td>\n",
       "      <td>Assignment Completed</td>\n",
       "      <td>True</td>\n",
       "      <td>2.0</td>\n",
       "    </tr>\n",
       "    <tr>\n",
       "      <th>2</th>\n",
       "      <td>SESSION00003</td>\n",
       "      <td>Undergraduate</td>\n",
       "      <td>Business</td>\n",
       "      <td>2025-01-12</td>\n",
       "      <td>19.22</td>\n",
       "      <td>5</td>\n",
       "      <td>Coding</td>\n",
       "      <td>3</td>\n",
       "      <td>Assignment Completed</td>\n",
       "      <td>True</td>\n",
       "      <td>3.3</td>\n",
       "    </tr>\n",
       "    <tr>\n",
       "      <th>3</th>\n",
       "      <td>SESSION00004</td>\n",
       "      <td>Undergraduate</td>\n",
       "      <td>Computer Science</td>\n",
       "      <td>2025-05-06</td>\n",
       "      <td>3.70</td>\n",
       "      <td>1</td>\n",
       "      <td>Coding</td>\n",
       "      <td>3</td>\n",
       "      <td>Assignment Completed</td>\n",
       "      <td>True</td>\n",
       "      <td>3.5</td>\n",
       "    </tr>\n",
       "    <tr>\n",
       "      <th>4</th>\n",
       "      <td>SESSION00005</td>\n",
       "      <td>Undergraduate</td>\n",
       "      <td>Psychology</td>\n",
       "      <td>2025-03-18</td>\n",
       "      <td>28.12</td>\n",
       "      <td>9</td>\n",
       "      <td>Writing</td>\n",
       "      <td>3</td>\n",
       "      <td>Assignment Completed</td>\n",
       "      <td>True</td>\n",
       "      <td>2.9</td>\n",
       "    </tr>\n",
       "  </tbody>\n",
       "</table>\n",
       "</div>"
      ],
      "text/plain": [
       "      SessionID   StudentLevel        Discipline SessionDate  \\\n",
       "0  SESSION00001  Undergraduate  Computer Science  2024-11-03   \n",
       "1  SESSION00002  Undergraduate        Psychology  2024-08-25   \n",
       "2  SESSION00003  Undergraduate          Business  2025-01-12   \n",
       "3  SESSION00004  Undergraduate  Computer Science  2025-05-06   \n",
       "4  SESSION00005  Undergraduate        Psychology  2025-03-18   \n",
       "\n",
       "   SessionLengthMin  TotalPrompts  TaskType  AI_AssistanceLevel  \\\n",
       "0             31.20            11  Studying                   2   \n",
       "1             13.09             6  Studying                   3   \n",
       "2             19.22             5    Coding                   3   \n",
       "3              3.70             1    Coding                   3   \n",
       "4             28.12             9   Writing                   3   \n",
       "\n",
       "           FinalOutcome  UsedAgain  SatisfactionRating  \n",
       "0  Assignment Completed       True                 1.0  \n",
       "1  Assignment Completed       True                 2.0  \n",
       "2  Assignment Completed       True                 3.3  \n",
       "3  Assignment Completed       True                 3.5  \n",
       "4  Assignment Completed       True                 2.9  "
      ]
     },
     "execution_count": 2,
     "metadata": {},
     "output_type": "execute_result"
    }
   ],
   "source": [
    "#1.Load the dataset and display the first 5 rows.\n",
    "df=pd.read_csv(\"/kaggle/input/ai-assistant-usage-in-student-life-synthetic/ai_assistant_usage_student_life.csv\")\n",
    "df.head(5)"
   ]
  },
  {
   "cell_type": "code",
   "execution_count": 3,
   "metadata": {
    "execution": {
     "iopub.execute_input": "2025-08-29T15:12:33.134963Z",
     "iopub.status.busy": "2025-08-29T15:12:33.134497Z",
     "iopub.status.idle": "2025-08-29T15:12:33.143186Z",
     "shell.execute_reply": "2025-08-29T15:12:33.141792Z",
     "shell.execute_reply.started": "2025-08-29T15:12:33.134937Z"
    },
    "trusted": true
   },
   "outputs": [
    {
     "data": {
      "text/plain": [
       "(10000, 11)"
      ]
     },
     "execution_count": 3,
     "metadata": {},
     "output_type": "execute_result"
    }
   ],
   "source": [
    "#2.Check the dataset shape (rows, columns).\n",
    "df.shape"
   ]
  },
  {
   "cell_type": "code",
   "execution_count": 4,
   "metadata": {
    "execution": {
     "iopub.execute_input": "2025-08-29T15:12:48.814292Z",
     "iopub.status.busy": "2025-08-29T15:12:48.813953Z",
     "iopub.status.idle": "2025-08-29T15:12:48.823325Z",
     "shell.execute_reply": "2025-08-29T15:12:48.821725Z",
     "shell.execute_reply.started": "2025-08-29T15:12:48.814266Z"
    },
    "trusted": true
   },
   "outputs": [
    {
     "data": {
      "text/plain": [
       "SessionID              object\n",
       "StudentLevel           object\n",
       "Discipline             object\n",
       "SessionDate            object\n",
       "SessionLengthMin      float64\n",
       "TotalPrompts            int64\n",
       "TaskType               object\n",
       "AI_AssistanceLevel      int64\n",
       "FinalOutcome           object\n",
       "UsedAgain                bool\n",
       "SatisfactionRating    float64\n",
       "dtype: object"
      ]
     },
     "execution_count": 4,
     "metadata": {},
     "output_type": "execute_result"
    }
   ],
   "source": [
    "#3.Display column names and their data types.\n",
    "df.dtypes"
   ]
  },
  {
   "cell_type": "code",
   "execution_count": 5,
   "metadata": {
    "execution": {
     "iopub.execute_input": "2025-08-29T15:13:01.640103Z",
     "iopub.status.busy": "2025-08-29T15:13:01.639749Z",
     "iopub.status.idle": "2025-08-29T15:13:01.653242Z",
     "shell.execute_reply": "2025-08-29T15:13:01.652208Z",
     "shell.execute_reply.started": "2025-08-29T15:13:01.640079Z"
    },
    "trusted": true
   },
   "outputs": [
    {
     "data": {
      "text/plain": [
       "SessionID             0\n",
       "StudentLevel          0\n",
       "Discipline            0\n",
       "SessionDate           0\n",
       "SessionLengthMin      0\n",
       "TotalPrompts          0\n",
       "TaskType              0\n",
       "AI_AssistanceLevel    0\n",
       "FinalOutcome          0\n",
       "UsedAgain             0\n",
       "SatisfactionRating    0\n",
       "dtype: int64"
      ]
     },
     "execution_count": 5,
     "metadata": {},
     "output_type": "execute_result"
    }
   ],
   "source": [
    "#4.Check for missing values in each column.\n",
    "df.isna().sum()"
   ]
  },
  {
   "cell_type": "code",
   "execution_count": 6,
   "metadata": {
    "execution": {
     "iopub.execute_input": "2025-08-29T15:13:19.991499Z",
     "iopub.status.busy": "2025-08-29T15:13:19.991168Z",
     "iopub.status.idle": "2025-08-29T15:13:20.074443Z",
     "shell.execute_reply": "2025-08-29T15:13:20.073454Z",
     "shell.execute_reply.started": "2025-08-29T15:13:19.991475Z"
    },
    "trusted": true
   },
   "outputs": [
    {
     "data": {
      "text/html": [
       "<div>\n",
       "<style scoped>\n",
       "    .dataframe tbody tr th:only-of-type {\n",
       "        vertical-align: middle;\n",
       "    }\n",
       "\n",
       "    .dataframe tbody tr th {\n",
       "        vertical-align: top;\n",
       "    }\n",
       "\n",
       "    .dataframe thead th {\n",
       "        text-align: right;\n",
       "    }\n",
       "</style>\n",
       "<table border=\"1\" class=\"dataframe\">\n",
       "  <thead>\n",
       "    <tr style=\"text-align: right;\">\n",
       "      <th></th>\n",
       "      <th>SessionLengthMin</th>\n",
       "      <th>TotalPrompts</th>\n",
       "    </tr>\n",
       "  </thead>\n",
       "  <tbody>\n",
       "    <tr>\n",
       "      <th>count</th>\n",
       "      <td>10000.000000</td>\n",
       "      <td>10000.000000</td>\n",
       "    </tr>\n",
       "    <tr>\n",
       "      <th>mean</th>\n",
       "      <td>19.846467</td>\n",
       "      <td>5.607500</td>\n",
       "    </tr>\n",
       "    <tr>\n",
       "      <th>std</th>\n",
       "      <td>13.897302</td>\n",
       "      <td>4.648764</td>\n",
       "    </tr>\n",
       "    <tr>\n",
       "      <th>min</th>\n",
       "      <td>0.030000</td>\n",
       "      <td>1.000000</td>\n",
       "    </tr>\n",
       "    <tr>\n",
       "      <th>25%</th>\n",
       "      <td>9.630000</td>\n",
       "      <td>2.000000</td>\n",
       "    </tr>\n",
       "    <tr>\n",
       "      <th>50%</th>\n",
       "      <td>16.650000</td>\n",
       "      <td>4.000000</td>\n",
       "    </tr>\n",
       "    <tr>\n",
       "      <th>75%</th>\n",
       "      <td>26.670000</td>\n",
       "      <td>8.000000</td>\n",
       "    </tr>\n",
       "    <tr>\n",
       "      <th>max</th>\n",
       "      <td>110.810000</td>\n",
       "      <td>39.000000</td>\n",
       "    </tr>\n",
       "  </tbody>\n",
       "</table>\n",
       "</div>"
      ],
      "text/plain": [
       "       SessionLengthMin  TotalPrompts\n",
       "count      10000.000000  10000.000000\n",
       "mean          19.846467      5.607500\n",
       "std           13.897302      4.648764\n",
       "min            0.030000      1.000000\n",
       "25%            9.630000      2.000000\n",
       "50%           16.650000      4.000000\n",
       "75%           26.670000      8.000000\n",
       "max          110.810000     39.000000"
      ]
     },
     "execution_count": 6,
     "metadata": {},
     "output_type": "execute_result"
    }
   ],
   "source": [
    "#5.Show summary statistics for SessionLengthMin and TotalPrompts.\n",
    "df[['SessionLengthMin','TotalPrompts']].describe()"
   ]
  },
  {
   "cell_type": "code",
   "execution_count": 7,
   "metadata": {
    "execution": {
     "iopub.execute_input": "2025-08-29T15:13:33.588382Z",
     "iopub.status.busy": "2025-08-29T15:13:33.587414Z",
     "iopub.status.idle": "2025-08-29T15:13:33.604626Z",
     "shell.execute_reply": "2025-08-29T15:13:33.603629Z",
     "shell.execute_reply.started": "2025-08-29T15:13:33.588346Z"
    },
    "trusted": true
   },
   "outputs": [
    {
     "data": {
      "text/plain": [
       "StudentLevel    3\n",
       "Discipline      7\n",
       "TaskType        6\n",
       "dtype: int64"
      ]
     },
     "execution_count": 7,
     "metadata": {},
     "output_type": "execute_result"
    }
   ],
   "source": [
    "#6.Find the number of unique values in StudentLevel, Discipline, and TaskType.\n",
    "df[['StudentLevel','Discipline','TaskType']].nunique()"
   ]
  },
  {
   "cell_type": "code",
   "execution_count": 9,
   "metadata": {
    "execution": {
     "iopub.execute_input": "2025-08-29T15:14:14.968459Z",
     "iopub.status.busy": "2025-08-29T15:14:14.968146Z",
     "iopub.status.idle": "2025-08-29T15:14:14.979454Z",
     "shell.execute_reply": "2025-08-29T15:14:14.977916Z",
     "shell.execute_reply.started": "2025-08-29T15:14:14.968436Z"
    },
    "trusted": true
   },
   "outputs": [
    {
     "data": {
      "text/plain": [
       "TaskType\n",
       "Writing          3101\n",
       "Studying         2040\n",
       "Homework Help    1959\n",
       "Coding           1948\n",
       "Brainstorming     476\n",
       "Research          476\n",
       "Name: count, dtype: int64"
      ]
     },
     "execution_count": 9,
     "metadata": {},
     "output_type": "execute_result"
    }
   ],
   "source": [
    "#7.Which TaskType is the most common?\n",
    "df['TaskType'].value_counts()"
   ]
  },
  {
   "cell_type": "code",
   "execution_count": 10,
   "metadata": {
    "execution": {
     "iopub.execute_input": "2025-08-29T15:14:45.315614Z",
     "iopub.status.busy": "2025-08-29T15:14:45.315288Z",
     "iopub.status.idle": "2025-08-29T15:14:45.327583Z",
     "shell.execute_reply": "2025-08-29T15:14:45.326209Z",
     "shell.execute_reply.started": "2025-08-29T15:14:45.315589Z"
    },
    "trusted": true
   },
   "outputs": [
    {
     "name": "stdout",
     "output_type": "stream",
     "text": [
      "StudentLevel\n",
      "Graduate         20.252236\n",
      "High School      20.023740\n",
      "Undergraduate    19.650943\n",
      "Name: SessionLengthMin, dtype: float64\n"
     ]
    }
   ],
   "source": [
    "#8.Calculate the average SessionLengthMin for each StudentLevel.\n",
    "avg_session_len= df.groupby('StudentLevel')['SessionLengthMin'].mean()\n",
    "print(avg_session_len)"
   ]
  },
  {
   "cell_type": "markdown",
   "metadata": {},
   "source": [
    "#### Part B: Visualization\n"
   ]
  },
  {
   "cell_type": "code",
   "execution_count": 11,
   "metadata": {
    "execution": {
     "iopub.execute_input": "2025-08-29T15:15:01.825286Z",
     "iopub.status.busy": "2025-08-29T15:15:01.824930Z",
     "iopub.status.idle": "2025-08-29T15:15:02.188713Z",
     "shell.execute_reply": "2025-08-29T15:15:02.187096Z",
     "shell.execute_reply.started": "2025-08-29T15:15:01.825260Z"
    },
    "trusted": true
   },
   "outputs": [
    {
     "data": {
      "image/png": "[encoded data removed]",
      "text/plain": [
       "<Figure size 640x480 with 1 Axes>"
      ]
     },
     "metadata": {},
     "output_type": "display_data"
    }
   ],
   "source": [
    "#9.Plot a histogram of SessionLengthMin.\n",
    "plt.hist(df['SessionLengthMin'],bins=10,edgecolor='black')\n",
    "plt.xlabel('Session Length per min')\n",
    "plt.ylabel('Frequency')\n",
    "plt.title('SessionLenthMIn Histogram')\n",
    "plt.grid(False)\n",
    "plt.show()"
   ]
  },
  {
   "cell_type": "code",
   "execution_count": 13,
   "metadata": {
    "execution": {
     "iopub.execute_input": "2025-08-29T15:15:57.233945Z",
     "iopub.status.busy": "2025-08-29T15:15:57.233583Z",
     "iopub.status.idle": "2025-08-29T15:15:57.418779Z",
     "shell.execute_reply": "2025-08-29T15:15:57.417775Z",
     "shell.execute_reply.started": "2025-08-29T15:15:57.233922Z"
    },
    "trusted": true
   },
   "outputs": [
    {
     "data": {
      "image/png": "[encoded data removed]",
      "text/plain": [
       "<Figure size 640x480 with 1 Axes>"
      ]
     },
     "metadata": {},
     "output_type": "display_data"
    }
   ],
   "source": [
    "#11.Make a countplot of TaskType using Seaborn.\n",
    "sns.countplot(x=df['TaskType'])\n",
    "plt.title('Countplot of Tasktype')\n",
    "plt.show()"
   ]
  },
  {
   "cell_type": "code",
   "execution_count": 14,
   "metadata": {
    "execution": {
     "iopub.execute_input": "2025-08-29T15:16:22.667387Z",
     "iopub.status.busy": "2025-08-29T15:16:22.667018Z",
     "iopub.status.idle": "2025-08-29T15:16:22.930114Z",
     "shell.execute_reply": "2025-08-29T15:16:22.929041Z",
     "shell.execute_reply.started": "2025-08-29T15:16:22.667362Z"
    },
    "trusted": true
   },
   "outputs": [
    {
     "data": {
      "image/png": "[encoded data removed]",
      "text/plain": [
       "<Figure size 800x600 with 1 Axes>"
      ]
     },
     "metadata": {},
     "output_type": "display_data"
    }
   ],
   "source": [
    "#12.Plot a boxplot of SessionLengthMin grouped by StudentLevel.\n",
    "plt.figure(figsize=(8, 6))\n",
    "sns.boxplot(x=\"StudentLevel\", y=\"SessionLengthMin\", data=df)\n",
    "\n",
    "plt.title(\"Session Length Distribution by Student Level\")\n",
    "plt.xlabel(\"Student Level\")\n",
    "plt.ylabel(\"Session Length (Minutes)\")\n",
    "plt.show()"
   ]
  },
  {
   "cell_type": "code",
   "execution_count": 15,
   "metadata": {
    "execution": {
     "iopub.execute_input": "2025-08-29T15:16:50.938841Z",
     "iopub.status.busy": "2025-08-29T15:16:50.938455Z",
     "iopub.status.idle": "2025-08-29T15:16:51.089954Z",
     "shell.execute_reply": "2025-08-29T15:16:51.088990Z",
     "shell.execute_reply.started": "2025-08-29T15:16:50.938805Z"
    },
    "trusted": true
   },
   "outputs": [
    {
     "data": {
      "text/plain": [
       "Text(0.5, 1.0, 'Proportion of Final Outcomes')"
      ]
     },
     "execution_count": 15,
     "metadata": {},
     "output_type": "execute_result"
    },
    {
     "data": {
      "image/png": "[encoded data removed]",
      "text/plain": [
       "<Figure size 640x480 with 1 Axes>"
      ]
     },
     "metadata": {},
     "output_type": "display_data"
    }
   ],
   "source": [
    "#13.Create a pie chart showing proportions of FinalOutcome.\n",
    "outcome_proportions = df['FinalOutcome'].value_counts()\n",
    "plt.pie(outcome_proportions.values, labels=outcome_proportions.index, autopct='%0.2f%%')\n",
    "plt.title('Proportion of Final Outcomes')"
   ]
  },
  {
   "cell_type": "code",
   "execution_count": 16,
   "metadata": {
    "execution": {
     "iopub.execute_input": "2025-08-29T15:17:15.083340Z",
     "iopub.status.busy": "2025-08-29T15:17:15.083008Z",
     "iopub.status.idle": "2025-08-29T15:17:15.349515Z",
     "shell.execute_reply": "2025-08-29T15:17:15.348460Z",
     "shell.execute_reply.started": "2025-08-29T15:17:15.083316Z"
    },
    "trusted": true
   },
   "outputs": [
    {
     "data": {
      "image/png": "[encoded data removed]",
      "text/plain": [
       "<Figure size 640x480 with 1 Axes>"
      ]
     },
     "metadata": {},
     "output_type": "display_data"
    }
   ],
   "source": [
    "#14.Draw a scatterplot of SessionLengthMin vs. TotalPrompts\n",
    "plt.scatter(df['SessionLengthMin'], df['TotalPrompts'])\n",
    "plt.xlabel(\"Session length (Mins)\")\n",
    "plt.ylabel(\"Total Prompts\")\n",
    "plt.title(\"SessionLengthMin vs. TotalPrompts\")\n",
    "plt.show()"
   ]
  },
  {
   "cell_type": "code",
   "execution_count": 17,
   "metadata": {
    "execution": {
     "iopub.execute_input": "2025-08-29T15:17:34.984727Z",
     "iopub.status.busy": "2025-08-29T15:17:34.984364Z",
     "iopub.status.idle": "2025-08-29T15:17:35.364874Z",
     "shell.execute_reply": "2025-08-29T15:17:35.363755Z",
     "shell.execute_reply.started": "2025-08-29T15:17:34.984702Z"
    },
    "trusted": true
   },
   "outputs": [
    {
     "data": {
      "text/plain": [
       "Text(0.5, 1.0, 'Line Chart of Average AI Assistance Level over Time')"
      ]
     },
     "execution_count": 17,
     "metadata": {},
     "output_type": "execute_result"
    },
    {
     "data": {
      "image/png": "[encoded data removed]",
      "text/plain": [
       "<Figure size 640x480 with 1 Axes>"
      ]
     },
     "metadata": {},
     "output_type": "display_data"
    }
   ],
   "source": [
    "#15.Plot a line chart of average AI_AssistanceLevel over time (SessionDate).\n",
    "df['SessionDate'] = pd.to_datetime(df['SessionDate'])\n",
    "avg_ai_level_over_time = df.groupby('SessionDate')['AI_AssistanceLevel'].mean()\n",
    "plt.plot(avg_ai_level_over_time.index, avg_ai_level_over_time.values)\n",
    "plt.xlabel('Session Date')\n",
    "plt.ylabel('Average AI Assistance Level')\n",
    "plt.title('Line Chart of Average AI Assistance Level over Time')"
   ]
  },
  {
   "cell_type": "code",
   "execution_count": 18,
   "metadata": {
    "execution": {
     "iopub.execute_input": "2025-08-29T15:18:06.429283Z",
     "iopub.status.busy": "2025-08-29T15:18:06.428945Z",
     "iopub.status.idle": "2025-08-29T15:18:06.731467Z",
     "shell.execute_reply": "2025-08-29T15:18:06.730345Z",
     "shell.execute_reply.started": "2025-08-29T15:18:06.429259Z"
    },
    "trusted": true
   },
   "outputs": [
    {
     "data": {
      "image/png": "[encoded data removed]",
      "text/plain": [
       "<Figure size 1000x600 with 2 Axes>"
      ]
     },
     "metadata": {},
     "output_type": "display_data"
    }
   ],
   "source": [
    "#16.Create a heatmap of correlations among numeric features.\n",
    "corr_matrix = df.corr(numeric_only=True)\n",
    "plt.figure(figsize=(10, 6))\n",
    "sns.heatmap(corr_matrix, annot=True, cmap='YlGnBu', fmt=\".2f\")\n",
    "plt.title(\"Correlation Heatmap (Numeric Columns)\")\n",
    "plt.show()"
   ]
  },
  {
   "cell_type": "markdown",
   "metadata": {},
   "source": [
    "#### Part C: GroupBy & Aggregations\n"
   ]
  },
  {
   "cell_type": "code",
   "execution_count": 19,
   "metadata": {
    "execution": {
     "iopub.execute_input": "2025-08-29T15:18:25.773475Z",
     "iopub.status.busy": "2025-08-29T15:18:25.773172Z",
     "iopub.status.idle": "2025-08-29T15:18:25.784188Z",
     "shell.execute_reply": "2025-08-29T15:18:25.782815Z",
     "shell.execute_reply.started": "2025-08-29T15:18:25.773453Z"
    },
    "trusted": true
   },
   "outputs": [
    {
     "data": {
      "text/plain": [
       "TaskType\n",
       "Brainstorming    21.964223\n",
       "Coding           19.467659\n",
       "Homework Help    19.940536\n",
       "Research         20.410000\n",
       "Studying         19.705917\n",
       "Writing          19.705888\n",
       "Name: SessionLengthMin, dtype: float64"
      ]
     },
     "execution_count": 19,
     "metadata": {},
     "output_type": "execute_result"
    }
   ],
   "source": [
    "#17.Find the average SessionLengthMin for each TaskType.\n",
    "ave_session_task=df.groupby('TaskType')['SessionLengthMin'].mean()\n",
    "ave_session_task"
   ]
  },
  {
   "cell_type": "code",
   "execution_count": 20,
   "metadata": {
    "execution": {
     "iopub.execute_input": "2025-08-29T15:18:47.754808Z",
     "iopub.status.busy": "2025-08-29T15:18:47.754337Z",
     "iopub.status.idle": "2025-08-29T15:18:47.763847Z",
     "shell.execute_reply": "2025-08-29T15:18:47.762702Z",
     "shell.execute_reply.started": "2025-08-29T15:18:47.754773Z"
    },
    "trusted": true
   },
   "outputs": [
    {
     "data": {
      "text/plain": [
       "Discipline\n",
       "Biology             1458\n",
       "Computer Science    1445\n",
       "Engineering         1430\n",
       "Math                1422\n",
       "Psychology          1418\n",
       "History             1417\n",
       "Business            1410\n",
       "Name: count, dtype: int64"
      ]
     },
     "execution_count": 20,
     "metadata": {},
     "output_type": "execute_result"
    }
   ],
   "source": [
    "#18.Which Discipline had the most sessions?\n",
    "df['Discipline'].value_counts()"
   ]
  },
  {
   "cell_type": "code",
   "execution_count": 21,
   "metadata": {
    "execution": {
     "iopub.execute_input": "2025-08-29T15:19:12.823520Z",
     "iopub.status.busy": "2025-08-29T15:19:12.823208Z",
     "iopub.status.idle": "2025-08-29T15:19:12.834296Z",
     "shell.execute_reply": "2025-08-29T15:19:12.832971Z",
     "shell.execute_reply.started": "2025-08-29T15:19:12.823497Z"
    },
    "trusted": true
   },
   "outputs": [
    {
     "data": {
      "text/plain": [
       "StudentLevel\n",
       "Graduate         3.469674\n",
       "High School      3.477060\n",
       "Undergraduate    3.483607\n",
       "Name: AI_AssistanceLevel, dtype: float64"
      ]
     },
     "execution_count": 21,
     "metadata": {},
     "output_type": "execute_result"
    }
   ],
   "source": [
    "#19.Compare average AI_AssistanceLevel across StudentLevel.\n",
    "ai_assist=df.groupby('StudentLevel')['AI_AssistanceLevel'].mean()\n",
    "ai_assist"
   ]
  },
  {
   "cell_type": "code",
   "execution_count": 22,
   "metadata": {
    "execution": {
     "iopub.execute_input": "2025-08-29T15:19:56.284837Z",
     "iopub.status.busy": "2025-08-29T15:19:56.284403Z",
     "iopub.status.idle": "2025-08-29T15:19:56.298772Z",
     "shell.execute_reply": "2025-08-29T15:19:56.297455Z",
     "shell.execute_reply.started": "2025-08-29T15:19:56.284812Z"
    },
    "trusted": true
   },
   "outputs": [
    {
     "name": "stdout",
     "output_type": "stream",
     "text": [
      "Most common FinalOutcome for Graduate students: Assignment Completed\n",
      "Count: 936\n"
     ]
    }
   ],
   "source": [
    "#20.Find the most common FinalOutcome for Graduate students.\n",
    "# Filter only Graduate students\n",
    "graduate_data = df[df[\"StudentLevel\"] == \"Graduate\"]\n",
    "\n",
    "# Find the most common FinalOutcome\n",
    "most_common_outcome = graduate_data[\"FinalOutcome\"].value_counts().idxmax()\n",
    "count = graduate_data[\"FinalOutcome\"].value_counts().max()\n",
    "\n",
    "print(\"Most common FinalOutcome for Graduate students:\", most_common_outcome)\n",
    "print(\"Count:\", count)"
   ]
  },
  {
   "cell_type": "code",
   "execution_count": 23,
   "metadata": {
    "execution": {
     "iopub.execute_input": "2025-08-29T15:20:14.484977Z",
     "iopub.status.busy": "2025-08-29T15:20:14.483518Z",
     "iopub.status.idle": "2025-08-29T15:20:14.495096Z",
     "shell.execute_reply": "2025-08-29T15:20:14.493906Z",
     "shell.execute_reply.started": "2025-08-29T15:20:14.484932Z"
    },
    "trusted": true
   },
   "outputs": [
    {
     "name": "stdout",
     "output_type": "stream",
     "text": [
      "FinalOutcome\n",
      "Assignment Completed    16.570\n",
      "Confused                16.040\n",
      "Gave Up                 17.290\n",
      "Idea Drafted            17.085\n",
      "Name: SessionLengthMin, dtype: float64\n"
     ]
    }
   ],
   "source": [
    "#21.Calculate the median SessionLengthMin for each FinalOutcome.\n",
    "median_session = df.groupby(\"FinalOutcome\")[\"SessionLengthMin\"].median()\n",
    "\n",
    "print(median_session)\n"
   ]
  },
  {
   "cell_type": "code",
   "execution_count": 24,
   "metadata": {
    "execution": {
     "iopub.execute_input": "2025-08-29T15:24:00.257625Z",
     "iopub.status.busy": "2025-08-29T15:24:00.257302Z",
     "iopub.status.idle": "2025-08-29T15:24:00.291356Z",
     "shell.execute_reply": "2025-08-29T15:24:00.290395Z",
     "shell.execute_reply.started": "2025-08-29T15:24:00.257604Z"
    },
    "trusted": true
   },
   "outputs": [
    {
     "data": {
      "text/html": [
       "<div>\n",
       "<style scoped>\n",
       "    .dataframe tbody tr th:only-of-type {\n",
       "        vertical-align: middle;\n",
       "    }\n",
       "\n",
       "    .dataframe tbody tr th {\n",
       "        vertical-align: top;\n",
       "    }\n",
       "\n",
       "    .dataframe thead th {\n",
       "        text-align: right;\n",
       "    }\n",
       "</style>\n",
       "<table border=\"1\" class=\"dataframe\">\n",
       "  <thead>\n",
       "    <tr style=\"text-align: right;\">\n",
       "      <th></th>\n",
       "      <th>SessionDate</th>\n",
       "      <th>Year</th>\n",
       "      <th>Month</th>\n",
       "      <th>Day</th>\n",
       "    </tr>\n",
       "  </thead>\n",
       "  <tbody>\n",
       "    <tr>\n",
       "      <th>0</th>\n",
       "      <td>2024-11-03</td>\n",
       "      <td>2024</td>\n",
       "      <td>11</td>\n",
       "      <td>3</td>\n",
       "    </tr>\n",
       "    <tr>\n",
       "      <th>1</th>\n",
       "      <td>2024-08-25</td>\n",
       "      <td>2024</td>\n",
       "      <td>8</td>\n",
       "      <td>25</td>\n",
       "    </tr>\n",
       "    <tr>\n",
       "      <th>2</th>\n",
       "      <td>2025-01-12</td>\n",
       "      <td>2025</td>\n",
       "      <td>1</td>\n",
       "      <td>12</td>\n",
       "    </tr>\n",
       "    <tr>\n",
       "      <th>3</th>\n",
       "      <td>2025-05-06</td>\n",
       "      <td>2025</td>\n",
       "      <td>5</td>\n",
       "      <td>6</td>\n",
       "    </tr>\n",
       "    <tr>\n",
       "      <th>4</th>\n",
       "      <td>2025-03-18</td>\n",
       "      <td>2025</td>\n",
       "      <td>3</td>\n",
       "      <td>18</td>\n",
       "    </tr>\n",
       "  </tbody>\n",
       "</table>\n",
       "</div>"
      ],
      "text/plain": [
       "  SessionDate  Year  Month  Day\n",
       "0  2024-11-03  2024     11    3\n",
       "1  2024-08-25  2024      8   25\n",
       "2  2025-01-12  2025      1   12\n",
       "3  2025-05-06  2025      5    6\n",
       "4  2025-03-18  2025      3   18"
      ]
     },
     "execution_count": 24,
     "metadata": {},
     "output_type": "execute_result"
    }
   ],
   "source": [
    "#22.Convert SessionDate into Year, Month, and Day columns.\n",
    "df['SessionDate']=pd.to_datetime(df[\"SessionDate\"])\n",
    "# Extract Year, Month, and Day into new columns\n",
    "df[\"Year\"] = df[\"SessionDate\"].dt.year\n",
    "df[\"Month\"] = df[\"SessionDate\"].dt.month\n",
    "df[\"Day\"] = df[\"SessionDate\"].dt.day\n",
    "df[['SessionDate','Year','Month','Day']].head()"
   ]
  },
  {
   "cell_type": "markdown",
   "metadata": {},
   "source": [
    "#### Part D: Feature Engineering & Encoding\n"
   ]
  },
  {
   "cell_type": "code",
   "execution_count": 25,
   "metadata": {
    "execution": {
     "iopub.execute_input": "2025-08-29T15:25:02.697976Z",
     "iopub.status.busy": "2025-08-29T15:25:02.697615Z",
     "iopub.status.idle": "2025-08-29T15:25:02.713716Z",
     "shell.execute_reply": "2025-08-29T15:25:02.712706Z",
     "shell.execute_reply.started": "2025-08-29T15:25:02.697953Z"
    },
    "trusted": true
   },
   "outputs": [
    {
     "data": {
      "text/html": [
       "<div>\n",
       "<style scoped>\n",
       "    .dataframe tbody tr th:only-of-type {\n",
       "        vertical-align: middle;\n",
       "    }\n",
       "\n",
       "    .dataframe tbody tr th {\n",
       "        vertical-align: top;\n",
       "    }\n",
       "\n",
       "    .dataframe thead th {\n",
       "        text-align: right;\n",
       "    }\n",
       "</style>\n",
       "<table border=\"1\" class=\"dataframe\">\n",
       "  <thead>\n",
       "    <tr style=\"text-align: right;\">\n",
       "      <th></th>\n",
       "      <th>StudentLevel</th>\n",
       "      <th>StudentLevel_encoded</th>\n",
       "    </tr>\n",
       "  </thead>\n",
       "  <tbody>\n",
       "    <tr>\n",
       "      <th>0</th>\n",
       "      <td>Undergraduate</td>\n",
       "      <td>2</td>\n",
       "    </tr>\n",
       "    <tr>\n",
       "      <th>1</th>\n",
       "      <td>Undergraduate</td>\n",
       "      <td>2</td>\n",
       "    </tr>\n",
       "    <tr>\n",
       "      <th>2</th>\n",
       "      <td>Undergraduate</td>\n",
       "      <td>2</td>\n",
       "    </tr>\n",
       "    <tr>\n",
       "      <th>3</th>\n",
       "      <td>Undergraduate</td>\n",
       "      <td>2</td>\n",
       "    </tr>\n",
       "    <tr>\n",
       "      <th>4</th>\n",
       "      <td>Undergraduate</td>\n",
       "      <td>2</td>\n",
       "    </tr>\n",
       "    <tr>\n",
       "      <th>5</th>\n",
       "      <td>Graduate</td>\n",
       "      <td>0</td>\n",
       "    </tr>\n",
       "    <tr>\n",
       "      <th>6</th>\n",
       "      <td>High School</td>\n",
       "      <td>1</td>\n",
       "    </tr>\n",
       "    <tr>\n",
       "      <th>7</th>\n",
       "      <td>Undergraduate</td>\n",
       "      <td>2</td>\n",
       "    </tr>\n",
       "    <tr>\n",
       "      <th>8</th>\n",
       "      <td>Undergraduate</td>\n",
       "      <td>2</td>\n",
       "    </tr>\n",
       "    <tr>\n",
       "      <th>9</th>\n",
       "      <td>Undergraduate</td>\n",
       "      <td>2</td>\n",
       "    </tr>\n",
       "  </tbody>\n",
       "</table>\n",
       "</div>"
      ],
      "text/plain": [
       "    StudentLevel  StudentLevel_encoded\n",
       "0  Undergraduate                     2\n",
       "1  Undergraduate                     2\n",
       "2  Undergraduate                     2\n",
       "3  Undergraduate                     2\n",
       "4  Undergraduate                     2\n",
       "5       Graduate                     0\n",
       "6    High School                     1\n",
       "7  Undergraduate                     2\n",
       "8  Undergraduate                     2\n",
       "9  Undergraduate                     2"
      ]
     },
     "execution_count": 25,
     "metadata": {},
     "output_type": "execute_result"
    }
   ],
   "source": [
    "#23.Encode StudentLevel using Label Encoding.\n",
    "from sklearn.preprocessing import LabelEncoder\n",
    "\n",
    "# Create encoder\n",
    "le = LabelEncoder()\n",
    "\n",
    "# Fit and transform the column\n",
    "df['StudentLevel_encoded'] = le.fit_transform(df['StudentLevel'])\n",
    "df[['StudentLevel','StudentLevel_encoded']].head(10)"
   ]
  },
  {
   "cell_type": "code",
   "execution_count": 26,
   "metadata": {
    "execution": {
     "iopub.execute_input": "2025-08-29T15:25:27.082100Z",
     "iopub.status.busy": "2025-08-29T15:25:27.081779Z",
     "iopub.status.idle": "2025-08-29T15:25:27.096461Z",
     "shell.execute_reply": "2025-08-29T15:25:27.095081Z",
     "shell.execute_reply.started": "2025-08-29T15:25:27.082077Z"
    },
    "trusted": true
   },
   "outputs": [
    {
     "name": "stdout",
     "output_type": "stream",
     "text": [
      "One-Hot Encoded Data using Pandas:\n",
      "      Coding  Homework Help  Research  Studying  Writing\n",
      "0      False          False     False      True    False\n",
      "1      False          False     False      True    False\n",
      "2       True          False     False     False    False\n",
      "3       True          False     False     False    False\n",
      "4      False          False     False     False     True\n",
      "...      ...            ...       ...       ...      ...\n",
      "9995   False          False     False      True    False\n",
      "9996   False          False     False     False     True\n",
      "9997   False          False     False      True    False\n",
      "9998   False          False     False     False     True\n",
      "9999   False          False     False     False     True\n",
      "\n",
      "[10000 rows x 5 columns]\n",
      "\n",
      "   Coding  Homework Help  Research  Studying  Writing\n",
      "0       0              0         0         1        0\n",
      "1       0              0         0         1        0\n",
      "2       1              0         0         0        0\n",
      "3       1              0         0         0        0\n",
      "4       0              0         0         0        1\n"
     ]
    }
   ],
   "source": [
    "#24.Apply One-Hot Encoding to TaskType\n",
    "df_encoded = pd.get_dummies(df['TaskType'],drop_first=True)\n",
    "print(f\"One-Hot Encoded Data using Pandas:\\n{df_encoded}\\n\")\n",
    "\n",
    "df_encoded=df_encoded.astype(int)#0s and 1s\n",
    "\n",
    "print(df_encoded.head())\n"
   ]
  },
  {
   "cell_type": "code",
   "execution_count": 27,
   "metadata": {
    "execution": {
     "iopub.execute_input": "2025-08-29T15:25:42.765929Z",
     "iopub.status.busy": "2025-08-29T15:25:42.765464Z",
     "iopub.status.idle": "2025-08-29T15:25:42.798048Z",
     "shell.execute_reply": "2025-08-29T15:25:42.796765Z",
     "shell.execute_reply.started": "2025-08-29T15:25:42.765901Z"
    },
    "trusted": true
   },
   "outputs": [
    {
     "data": {
      "text/html": [
       "<div>\n",
       "<style scoped>\n",
       "    .dataframe tbody tr th:only-of-type {\n",
       "        vertical-align: middle;\n",
       "    }\n",
       "\n",
       "    .dataframe tbody tr th {\n",
       "        vertical-align: top;\n",
       "    }\n",
       "\n",
       "    .dataframe thead th {\n",
       "        text-align: right;\n",
       "    }\n",
       "</style>\n",
       "<table border=\"1\" class=\"dataframe\">\n",
       "  <thead>\n",
       "    <tr style=\"text-align: right;\">\n",
       "      <th></th>\n",
       "      <th>SessionID</th>\n",
       "      <th>StudentLevel</th>\n",
       "      <th>Discipline</th>\n",
       "      <th>SessionDate</th>\n",
       "      <th>SessionLengthMin</th>\n",
       "      <th>TotalPrompts</th>\n",
       "      <th>TaskType</th>\n",
       "      <th>AI_AssistanceLevel</th>\n",
       "      <th>FinalOutcome</th>\n",
       "      <th>UsedAgain</th>\n",
       "      <th>SatisfactionRating</th>\n",
       "      <th>Year</th>\n",
       "      <th>Month</th>\n",
       "      <th>Day</th>\n",
       "      <th>StudentLevel_encoded</th>\n",
       "      <th>PromptsPerMinute</th>\n",
       "    </tr>\n",
       "  </thead>\n",
       "  <tbody>\n",
       "    <tr>\n",
       "      <th>0</th>\n",
       "      <td>SESSION00001</td>\n",
       "      <td>Undergraduate</td>\n",
       "      <td>Computer Science</td>\n",
       "      <td>2024-11-03</td>\n",
       "      <td>31.20</td>\n",
       "      <td>11</td>\n",
       "      <td>Studying</td>\n",
       "      <td>2</td>\n",
       "      <td>Assignment Completed</td>\n",
       "      <td>True</td>\n",
       "      <td>1.0</td>\n",
       "      <td>2024</td>\n",
       "      <td>11</td>\n",
       "      <td>3</td>\n",
       "      <td>2</td>\n",
       "      <td>0.352564</td>\n",
       "    </tr>\n",
       "    <tr>\n",
       "      <th>1</th>\n",
       "      <td>SESSION00002</td>\n",
       "      <td>Undergraduate</td>\n",
       "      <td>Psychology</td>\n",
       "      <td>2024-08-25</td>\n",
       "      <td>13.09</td>\n",
       "      <td>6</td>\n",
       "      <td>Studying</td>\n",
       "      <td>3</td>\n",
       "      <td>Assignment Completed</td>\n",
       "      <td>True</td>\n",
       "      <td>2.0</td>\n",
       "      <td>2024</td>\n",
       "      <td>8</td>\n",
       "      <td>25</td>\n",
       "      <td>2</td>\n",
       "      <td>0.458365</td>\n",
       "    </tr>\n",
       "    <tr>\n",
       "      <th>2</th>\n",
       "      <td>SESSION00003</td>\n",
       "      <td>Undergraduate</td>\n",
       "      <td>Business</td>\n",
       "      <td>2025-01-12</td>\n",
       "      <td>19.22</td>\n",
       "      <td>5</td>\n",
       "      <td>Coding</td>\n",
       "      <td>3</td>\n",
       "      <td>Assignment Completed</td>\n",
       "      <td>True</td>\n",
       "      <td>3.3</td>\n",
       "      <td>2025</td>\n",
       "      <td>1</td>\n",
       "      <td>12</td>\n",
       "      <td>2</td>\n",
       "      <td>0.260146</td>\n",
       "    </tr>\n",
       "    <tr>\n",
       "      <th>3</th>\n",
       "      <td>SESSION00004</td>\n",
       "      <td>Undergraduate</td>\n",
       "      <td>Computer Science</td>\n",
       "      <td>2025-05-06</td>\n",
       "      <td>3.70</td>\n",
       "      <td>1</td>\n",
       "      <td>Coding</td>\n",
       "      <td>3</td>\n",
       "      <td>Assignment Completed</td>\n",
       "      <td>True</td>\n",
       "      <td>3.5</td>\n",
       "      <td>2025</td>\n",
       "      <td>5</td>\n",
       "      <td>6</td>\n",
       "      <td>2</td>\n",
       "      <td>0.270270</td>\n",
       "    </tr>\n",
       "    <tr>\n",
       "      <th>4</th>\n",
       "      <td>SESSION00005</td>\n",
       "      <td>Undergraduate</td>\n",
       "      <td>Psychology</td>\n",
       "      <td>2025-03-18</td>\n",
       "      <td>28.12</td>\n",
       "      <td>9</td>\n",
       "      <td>Writing</td>\n",
       "      <td>3</td>\n",
       "      <td>Assignment Completed</td>\n",
       "      <td>True</td>\n",
       "      <td>2.9</td>\n",
       "      <td>2025</td>\n",
       "      <td>3</td>\n",
       "      <td>18</td>\n",
       "      <td>2</td>\n",
       "      <td>0.320057</td>\n",
       "    </tr>\n",
       "  </tbody>\n",
       "</table>\n",
       "</div>"
      ],
      "text/plain": [
       "      SessionID   StudentLevel        Discipline SessionDate  \\\n",
       "0  SESSION00001  Undergraduate  Computer Science  2024-11-03   \n",
       "1  SESSION00002  Undergraduate        Psychology  2024-08-25   \n",
       "2  SESSION00003  Undergraduate          Business  2025-01-12   \n",
       "3  SESSION00004  Undergraduate  Computer Science  2025-05-06   \n",
       "4  SESSION00005  Undergraduate        Psychology  2025-03-18   \n",
       "\n",
       "   SessionLengthMin  TotalPrompts  TaskType  AI_AssistanceLevel  \\\n",
       "0             31.20            11  Studying                   2   \n",
       "1             13.09             6  Studying                   3   \n",
       "2             19.22             5    Coding                   3   \n",
       "3              3.70             1    Coding                   3   \n",
       "4             28.12             9   Writing                   3   \n",
       "\n",
       "           FinalOutcome  UsedAgain  SatisfactionRating  Year  Month  Day  \\\n",
       "0  Assignment Completed       True                 1.0  2024     11    3   \n",
       "1  Assignment Completed       True                 2.0  2024      8   25   \n",
       "2  Assignment Completed       True                 3.3  2025      1   12   \n",
       "3  Assignment Completed       True                 3.5  2025      5    6   \n",
       "4  Assignment Completed       True                 2.9  2025      3   18   \n",
       "\n",
       "   StudentLevel_encoded  PromptsPerMinute  \n",
       "0                     2          0.352564  \n",
       "1                     2          0.458365  \n",
       "2                     2          0.260146  \n",
       "3                     2          0.270270  \n",
       "4                     2          0.320057  "
      ]
     },
     "execution_count": 27,
     "metadata": {},
     "output_type": "execute_result"
    }
   ],
   "source": [
    "#25 Create a new feature: PromptsPerMinute = TotalPrompts / SessionLengthMin.\n",
    "df['PromptsPerMinute'] = df['TotalPrompts'] / df['SessionLengthMin']\n",
    "df.head()"
   ]
  },
  {
   "cell_type": "code",
   "execution_count": 28,
   "metadata": {
    "execution": {
     "iopub.execute_input": "2025-08-29T15:26:32.712178Z",
     "iopub.status.busy": "2025-08-29T15:26:32.711796Z",
     "iopub.status.idle": "2025-08-29T15:26:32.727159Z",
     "shell.execute_reply": "2025-08-29T15:26:32.725385Z",
     "shell.execute_reply.started": "2025-08-29T15:26:32.712153Z"
    },
    "trusted": true
   },
   "outputs": [
    {
     "data": {
      "text/plain": [
       "count    10000.000000\n",
       "mean        19.846467\n",
       "std         13.897302\n",
       "min          0.030000\n",
       "25%          9.630000\n",
       "50%         16.650000\n",
       "75%         26.670000\n",
       "max        110.810000\n",
       "Name: SessionLengthMin, dtype: float64"
      ]
     },
     "execution_count": 28,
     "metadata": {},
     "output_type": "execute_result"
    }
   ],
   "source": [
    "df['SessionLengthMin'].describe()"
   ]
  },
  {
   "cell_type": "code",
   "execution_count": 29,
   "metadata": {
    "execution": {
     "iopub.execute_input": "2025-08-29T15:26:49.449185Z",
     "iopub.status.busy": "2025-08-29T15:26:49.448565Z",
     "iopub.status.idle": "2025-08-29T15:26:49.474853Z",
     "shell.execute_reply": "2025-08-29T15:26:49.473846Z",
     "shell.execute_reply.started": "2025-08-29T15:26:49.449157Z"
    },
    "trusted": true
   },
   "outputs": [
    {
     "data": {
      "text/html": [
       "<div>\n",
       "<style scoped>\n",
       "    .dataframe tbody tr th:only-of-type {\n",
       "        vertical-align: middle;\n",
       "    }\n",
       "\n",
       "    .dataframe tbody tr th {\n",
       "        vertical-align: top;\n",
       "    }\n",
       "\n",
       "    .dataframe thead th {\n",
       "        text-align: right;\n",
       "    }\n",
       "</style>\n",
       "<table border=\"1\" class=\"dataframe\">\n",
       "  <thead>\n",
       "    <tr style=\"text-align: right;\">\n",
       "      <th></th>\n",
       "      <th>SessionID</th>\n",
       "      <th>StudentLevel</th>\n",
       "      <th>Discipline</th>\n",
       "      <th>SessionDate</th>\n",
       "      <th>SessionLengthMin</th>\n",
       "      <th>TotalPrompts</th>\n",
       "      <th>TaskType</th>\n",
       "      <th>AI_AssistanceLevel</th>\n",
       "      <th>FinalOutcome</th>\n",
       "      <th>UsedAgain</th>\n",
       "      <th>SatisfactionRating</th>\n",
       "      <th>Year</th>\n",
       "      <th>Month</th>\n",
       "      <th>Day</th>\n",
       "      <th>StudentLevel_encoded</th>\n",
       "      <th>PromptsPerMinute</th>\n",
       "      <th>SessionLengthCategory</th>\n",
       "    </tr>\n",
       "  </thead>\n",
       "  <tbody>\n",
       "    <tr>\n",
       "      <th>0</th>\n",
       "      <td>SESSION00001</td>\n",
       "      <td>Undergraduate</td>\n",
       "      <td>Computer Science</td>\n",
       "      <td>2024-11-03</td>\n",
       "      <td>31.20</td>\n",
       "      <td>11</td>\n",
       "      <td>Studying</td>\n",
       "      <td>2</td>\n",
       "      <td>Assignment Completed</td>\n",
       "      <td>True</td>\n",
       "      <td>1.0</td>\n",
       "      <td>2024</td>\n",
       "      <td>11</td>\n",
       "      <td>3</td>\n",
       "      <td>2</td>\n",
       "      <td>0.352564</td>\n",
       "      <td>Medium</td>\n",
       "    </tr>\n",
       "    <tr>\n",
       "      <th>1</th>\n",
       "      <td>SESSION00002</td>\n",
       "      <td>Undergraduate</td>\n",
       "      <td>Psychology</td>\n",
       "      <td>2024-08-25</td>\n",
       "      <td>13.09</td>\n",
       "      <td>6</td>\n",
       "      <td>Studying</td>\n",
       "      <td>3</td>\n",
       "      <td>Assignment Completed</td>\n",
       "      <td>True</td>\n",
       "      <td>2.0</td>\n",
       "      <td>2024</td>\n",
       "      <td>8</td>\n",
       "      <td>25</td>\n",
       "      <td>2</td>\n",
       "      <td>0.458365</td>\n",
       "      <td>Short</td>\n",
       "    </tr>\n",
       "    <tr>\n",
       "      <th>2</th>\n",
       "      <td>SESSION00003</td>\n",
       "      <td>Undergraduate</td>\n",
       "      <td>Business</td>\n",
       "      <td>2025-01-12</td>\n",
       "      <td>19.22</td>\n",
       "      <td>5</td>\n",
       "      <td>Coding</td>\n",
       "      <td>3</td>\n",
       "      <td>Assignment Completed</td>\n",
       "      <td>True</td>\n",
       "      <td>3.3</td>\n",
       "      <td>2025</td>\n",
       "      <td>1</td>\n",
       "      <td>12</td>\n",
       "      <td>2</td>\n",
       "      <td>0.260146</td>\n",
       "      <td>Short</td>\n",
       "    </tr>\n",
       "    <tr>\n",
       "      <th>3</th>\n",
       "      <td>SESSION00004</td>\n",
       "      <td>Undergraduate</td>\n",
       "      <td>Computer Science</td>\n",
       "      <td>2025-05-06</td>\n",
       "      <td>3.70</td>\n",
       "      <td>1</td>\n",
       "      <td>Coding</td>\n",
       "      <td>3</td>\n",
       "      <td>Assignment Completed</td>\n",
       "      <td>True</td>\n",
       "      <td>3.5</td>\n",
       "      <td>2025</td>\n",
       "      <td>5</td>\n",
       "      <td>6</td>\n",
       "      <td>2</td>\n",
       "      <td>0.270270</td>\n",
       "      <td>Short</td>\n",
       "    </tr>\n",
       "    <tr>\n",
       "      <th>4</th>\n",
       "      <td>SESSION00005</td>\n",
       "      <td>Undergraduate</td>\n",
       "      <td>Psychology</td>\n",
       "      <td>2025-03-18</td>\n",
       "      <td>28.12</td>\n",
       "      <td>9</td>\n",
       "      <td>Writing</td>\n",
       "      <td>3</td>\n",
       "      <td>Assignment Completed</td>\n",
       "      <td>True</td>\n",
       "      <td>2.9</td>\n",
       "      <td>2025</td>\n",
       "      <td>3</td>\n",
       "      <td>18</td>\n",
       "      <td>2</td>\n",
       "      <td>0.320057</td>\n",
       "      <td>Short</td>\n",
       "    </tr>\n",
       "  </tbody>\n",
       "</table>\n",
       "</div>"
      ],
      "text/plain": [
       "      SessionID   StudentLevel        Discipline SessionDate  \\\n",
       "0  SESSION00001  Undergraduate  Computer Science  2024-11-03   \n",
       "1  SESSION00002  Undergraduate        Psychology  2024-08-25   \n",
       "2  SESSION00003  Undergraduate          Business  2025-01-12   \n",
       "3  SESSION00004  Undergraduate  Computer Science  2025-05-06   \n",
       "4  SESSION00005  Undergraduate        Psychology  2025-03-18   \n",
       "\n",
       "   SessionLengthMin  TotalPrompts  TaskType  AI_AssistanceLevel  \\\n",
       "0             31.20            11  Studying                   2   \n",
       "1             13.09             6  Studying                   3   \n",
       "2             19.22             5    Coding                   3   \n",
       "3              3.70             1    Coding                   3   \n",
       "4             28.12             9   Writing                   3   \n",
       "\n",
       "           FinalOutcome  UsedAgain  SatisfactionRating  Year  Month  Day  \\\n",
       "0  Assignment Completed       True                 1.0  2024     11    3   \n",
       "1  Assignment Completed       True                 2.0  2024      8   25   \n",
       "2  Assignment Completed       True                 3.3  2025      1   12   \n",
       "3  Assignment Completed       True                 3.5  2025      5    6   \n",
       "4  Assignment Completed       True                 2.9  2025      3   18   \n",
       "\n",
       "   StudentLevel_encoded  PromptsPerMinute SessionLengthCategory  \n",
       "0                     2          0.352564                Medium  \n",
       "1                     2          0.458365                 Short  \n",
       "2                     2          0.260146                 Short  \n",
       "3                     2          0.270270                 Short  \n",
       "4                     2          0.320057                 Short  "
      ]
     },
     "execution_count": 29,
     "metadata": {},
     "output_type": "execute_result"
    }
   ],
   "source": [
    "#26 Bin SessionLengthMin into categories: Short, Medium, Long.\n",
    "df[\"SessionLengthCategory\"]=pd.cut(df['SessionLengthMin'],\n",
    "                                   bins=[0,30,60,float('inf')],\n",
    "                                   labels=[\"Short\",\"Medium\",\"Long\"],\n",
    "                                   right=False)\n",
    "df.head()"
   ]
  },
  {
   "cell_type": "markdown",
   "metadata": {},
   "source": [
    "#### Part E: Machine Learning (Classification Models)\n"
   ]
  },
  {
   "cell_type": "code",
   "execution_count": 31,
   "metadata": {
    "execution": {
     "iopub.execute_input": "2025-08-29T15:30:19.173389Z",
     "iopub.status.busy": "2025-08-29T15:30:19.172424Z",
     "iopub.status.idle": "2025-08-29T15:30:19.216198Z",
     "shell.execute_reply": "2025-08-29T15:30:19.214864Z",
     "shell.execute_reply.started": "2025-08-29T15:30:19.173349Z"
    },
    "trusted": true
   },
   "outputs": [
    {
     "data": {
      "text/html": [
       "<div>\n",
       "<style scoped>\n",
       "    .dataframe tbody tr th:only-of-type {\n",
       "        vertical-align: middle;\n",
       "    }\n",
       "\n",
       "    .dataframe tbody tr th {\n",
       "        vertical-align: top;\n",
       "    }\n",
       "\n",
       "    .dataframe thead th {\n",
       "        text-align: right;\n",
       "    }\n",
       "</style>\n",
       "<table border=\"1\" class=\"dataframe\">\n",
       "  <thead>\n",
       "    <tr style=\"text-align: right;\">\n",
       "      <th></th>\n",
       "      <th>SessionLengthMin</th>\n",
       "      <th>TotalPrompts</th>\n",
       "      <th>AI_AssistanceLevel</th>\n",
       "      <th>UsedAgain</th>\n",
       "      <th>SatisfactionRating</th>\n",
       "      <th>Year</th>\n",
       "      <th>Month</th>\n",
       "      <th>Day</th>\n",
       "      <th>StudentLevel_encoded</th>\n",
       "      <th>PromptsPerMinute</th>\n",
       "      <th>...</th>\n",
       "      <th>SessionLengthCategory_Medium</th>\n",
       "      <th>SessionLengthCategory_Long</th>\n",
       "      <th>StudentLevel_High School</th>\n",
       "      <th>StudentLevel_Undergraduate</th>\n",
       "      <th>TaskType_Coding</th>\n",
       "      <th>TaskType_Homework Help</th>\n",
       "      <th>TaskType_Research</th>\n",
       "      <th>TaskType_Studying</th>\n",
       "      <th>TaskType_Writing</th>\n",
       "      <th>FinalOutcome_encoded</th>\n",
       "    </tr>\n",
       "  </thead>\n",
       "  <tbody>\n",
       "    <tr>\n",
       "      <th>0</th>\n",
       "      <td>31.20</td>\n",
       "      <td>11</td>\n",
       "      <td>2</td>\n",
       "      <td>1</td>\n",
       "      <td>1.0</td>\n",
       "      <td>2024</td>\n",
       "      <td>11</td>\n",
       "      <td>3</td>\n",
       "      <td>2</td>\n",
       "      <td>0.352564</td>\n",
       "      <td>...</td>\n",
       "      <td>True</td>\n",
       "      <td>False</td>\n",
       "      <td>False</td>\n",
       "      <td>True</td>\n",
       "      <td>False</td>\n",
       "      <td>False</td>\n",
       "      <td>False</td>\n",
       "      <td>True</td>\n",
       "      <td>False</td>\n",
       "      <td>0</td>\n",
       "    </tr>\n",
       "    <tr>\n",
       "      <th>1</th>\n",
       "      <td>13.09</td>\n",
       "      <td>6</td>\n",
       "      <td>3</td>\n",
       "      <td>1</td>\n",
       "      <td>2.0</td>\n",
       "      <td>2024</td>\n",
       "      <td>8</td>\n",
       "      <td>25</td>\n",
       "      <td>2</td>\n",
       "      <td>0.458365</td>\n",
       "      <td>...</td>\n",
       "      <td>False</td>\n",
       "      <td>False</td>\n",
       "      <td>False</td>\n",
       "      <td>True</td>\n",
       "      <td>False</td>\n",
       "      <td>False</td>\n",
       "      <td>False</td>\n",
       "      <td>True</td>\n",
       "      <td>False</td>\n",
       "      <td>0</td>\n",
       "    </tr>\n",
       "    <tr>\n",
       "      <th>2</th>\n",
       "      <td>19.22</td>\n",
       "      <td>5</td>\n",
       "      <td>3</td>\n",
       "      <td>1</td>\n",
       "      <td>3.3</td>\n",
       "      <td>2025</td>\n",
       "      <td>1</td>\n",
       "      <td>12</td>\n",
       "      <td>2</td>\n",
       "      <td>0.260146</td>\n",
       "      <td>...</td>\n",
       "      <td>False</td>\n",
       "      <td>False</td>\n",
       "      <td>False</td>\n",
       "      <td>True</td>\n",
       "      <td>True</td>\n",
       "      <td>False</td>\n",
       "      <td>False</td>\n",
       "      <td>False</td>\n",
       "      <td>False</td>\n",
       "      <td>0</td>\n",
       "    </tr>\n",
       "    <tr>\n",
       "      <th>3</th>\n",
       "      <td>3.70</td>\n",
       "      <td>1</td>\n",
       "      <td>3</td>\n",
       "      <td>1</td>\n",
       "      <td>3.5</td>\n",
       "      <td>2025</td>\n",
       "      <td>5</td>\n",
       "      <td>6</td>\n",
       "      <td>2</td>\n",
       "      <td>0.270270</td>\n",
       "      <td>...</td>\n",
       "      <td>False</td>\n",
       "      <td>False</td>\n",
       "      <td>False</td>\n",
       "      <td>True</td>\n",
       "      <td>True</td>\n",
       "      <td>False</td>\n",
       "      <td>False</td>\n",
       "      <td>False</td>\n",
       "      <td>False</td>\n",
       "      <td>0</td>\n",
       "    </tr>\n",
       "    <tr>\n",
       "      <th>4</th>\n",
       "      <td>28.12</td>\n",
       "      <td>9</td>\n",
       "      <td>3</td>\n",
       "      <td>1</td>\n",
       "      <td>2.9</td>\n",
       "      <td>2025</td>\n",
       "      <td>3</td>\n",
       "      <td>18</td>\n",
       "      <td>2</td>\n",
       "      <td>0.320057</td>\n",
       "      <td>...</td>\n",
       "      <td>False</td>\n",
       "      <td>False</td>\n",
       "      <td>False</td>\n",
       "      <td>True</td>\n",
       "      <td>False</td>\n",
       "      <td>False</td>\n",
       "      <td>False</td>\n",
       "      <td>False</td>\n",
       "      <td>True</td>\n",
       "      <td>0</td>\n",
       "    </tr>\n",
       "  </tbody>\n",
       "</table>\n",
       "<p>5 rows × 26 columns</p>\n",
       "</div>"
      ],
      "text/plain": [
       "   SessionLengthMin  TotalPrompts  AI_AssistanceLevel  UsedAgain  \\\n",
       "0             31.20            11                   2          1   \n",
       "1             13.09             6                   3          1   \n",
       "2             19.22             5                   3          1   \n",
       "3              3.70             1                   3          1   \n",
       "4             28.12             9                   3          1   \n",
       "\n",
       "   SatisfactionRating  Year  Month  Day  StudentLevel_encoded  \\\n",
       "0                 1.0  2024     11    3                     2   \n",
       "1                 2.0  2024      8   25                     2   \n",
       "2                 3.3  2025      1   12                     2   \n",
       "3                 3.5  2025      5    6                     2   \n",
       "4                 2.9  2025      3   18                     2   \n",
       "\n",
       "   PromptsPerMinute  ...  SessionLengthCategory_Medium  \\\n",
       "0          0.352564  ...                          True   \n",
       "1          0.458365  ...                         False   \n",
       "2          0.260146  ...                         False   \n",
       "3          0.270270  ...                         False   \n",
       "4          0.320057  ...                         False   \n",
       "\n",
       "   SessionLengthCategory_Long  StudentLevel_High School  \\\n",
       "0                       False                     False   \n",
       "1                       False                     False   \n",
       "2                       False                     False   \n",
       "3                       False                     False   \n",
       "4                       False                     False   \n",
       "\n",
       "   StudentLevel_Undergraduate  TaskType_Coding  TaskType_Homework Help  \\\n",
       "0                        True            False                   False   \n",
       "1                        True            False                   False   \n",
       "2                        True             True                   False   \n",
       "3                        True             True                   False   \n",
       "4                        True            False                   False   \n",
       "\n",
       "   TaskType_Research  TaskType_Studying  TaskType_Writing  \\\n",
       "0              False               True             False   \n",
       "1              False               True             False   \n",
       "2              False              False             False   \n",
       "3              False              False             False   \n",
       "4              False              False              True   \n",
       "\n",
       "   FinalOutcome_encoded  \n",
       "0                     0  \n",
       "1                     0  \n",
       "2                     0  \n",
       "3                     0  \n",
       "4                     0  \n",
       "\n",
       "[5 rows x 26 columns]"
      ]
     },
     "execution_count": 31,
     "metadata": {},
     "output_type": "execute_result"
    }
   ],
   "source": [
    "#27.Predict FinalOutcome using a Decision Tree Classifier.\n",
    "# drop irrelevant columns\n",
    "df=df.drop(columns=['SessionID','SessionDate'])\n",
    "#encode binary column\n",
    "df['UsedAgain']=df['UsedAgain'].astype(int)\n",
    "#one hot encode categorical columns\n",
    "df=pd.get_dummies(df,columns=['Discipline','SessionLengthCategory','StudentLevel', 'TaskType'],drop_first=True)\n",
    "#Encode target variable\n",
    "le = LabelEncoder()\n",
    "df['FinalOutcome_encoded']=le.fit_transform(df['FinalOutcome'])\n",
    "df=df.drop(columns=['FinalOutcome'])\n",
    "df.head()\n"
   ]
  },
  {
   "cell_type": "code",
   "execution_count": 32,
   "metadata": {
    "execution": {
     "iopub.execute_input": "2025-08-29T15:32:00.509281Z",
     "iopub.status.busy": "2025-08-29T15:32:00.508860Z",
     "iopub.status.idle": "2025-08-29T15:32:00.661545Z",
     "shell.execute_reply": "2025-08-29T15:32:00.659734Z",
     "shell.execute_reply.started": "2025-08-29T15:32:00.509253Z"
    },
    "trusted": true
   },
   "outputs": [
    {
     "name": "stdout",
     "output_type": "stream",
     "text": [
      "              precision    recall  f1-score   support\n",
      "\n",
      "           0       0.50      0.48      0.49       930\n",
      "           1       0.22      0.21      0.21       349\n",
      "           2       0.13      0.15      0.14       170\n",
      "           3       0.30      0.31      0.31       551\n",
      "\n",
      "    accuracy                           0.36      2000\n",
      "   macro avg       0.29      0.29      0.29      2000\n",
      "weighted avg       0.36      0.36      0.36      2000\n",
      "\n"
     ]
    }
   ],
   "source": [
    "from sklearn.model_selection import train_test_split\n",
    "from sklearn.tree import DecisionTreeClassifier\n",
    "from sklearn.metrics import classification_report\n",
    "\n",
    "# Predict FinalOutcome using a Decision Tree\n",
    "X = df.drop(columns=[\"FinalOutcome_encoded\"])\n",
    "y = df['FinalOutcome_encoded']\n",
    "# Split data\n",
    "X_train, X_test, y_train, y_test = train_test_split(X, y, test_size=0.2, random_state=42)\n",
    "\n",
    "dtree = DecisionTreeClassifier()\n",
    "dtree = dtree.fit(X_train, y_train)\n",
    "\n",
    "# Predict and evaluate\n",
    "y_pred = dtree.predict(X_test)\n",
    "print(classification_report(y_test, y_pred))"
   ]
  },
  {
   "cell_type": "code",
   "execution_count": 33,
   "metadata": {
    "execution": {
     "iopub.execute_input": "2025-08-29T15:32:30.650129Z",
     "iopub.status.busy": "2025-08-29T15:32:30.649497Z",
     "iopub.status.idle": "2025-08-29T15:32:31.467198Z",
     "shell.execute_reply": "2025-08-29T15:32:31.466117Z",
     "shell.execute_reply.started": "2025-08-29T15:32:30.650100Z"
    },
    "trusted": true
   },
   "outputs": [
    {
     "name": "stdout",
     "output_type": "stream",
     "text": [
      "              precision    recall  f1-score   support\n",
      "\n",
      "           0       0.00      0.00      0.00       615\n",
      "           1       0.69      1.00      0.82      1385\n",
      "\n",
      "    accuracy                           0.69      2000\n",
      "   macro avg       0.35      0.50      0.41      2000\n",
      "weighted avg       0.48      0.69      0.57      2000\n",
      "\n"
     ]
    },
    {
     "name": "stderr",
     "output_type": "stream",
     "text": [
      "/usr/local/lib/python3.11/dist-packages/sklearn/metrics/_classification.py:1344: UndefinedMetricWarning: Precision and F-score are ill-defined and being set to 0.0 in labels with no predicted samples. Use `zero_division` parameter to control this behavior.\n",
      "  _warn_prf(average, modifier, msg_start, len(result))\n",
      "/usr/local/lib/python3.11/dist-packages/sklearn/metrics/_classification.py:1344: UndefinedMetricWarning: Precision and F-score are ill-defined and being set to 0.0 in labels with no predicted samples. Use `zero_division` parameter to control this behavior.\n",
      "  _warn_prf(average, modifier, msg_start, len(result))\n",
      "/usr/local/lib/python3.11/dist-packages/sklearn/metrics/_classification.py:1344: UndefinedMetricWarning: Precision and F-score are ill-defined and being set to 0.0 in labels with no predicted samples. Use `zero_division` parameter to control this behavior.\n",
      "  _warn_prf(average, modifier, msg_start, len(result))\n"
     ]
    }
   ],
   "source": [
    "#28 Predict UsedAgain using Logistic Regression.\n",
    "from sklearn.linear_model import LogisticRegression\n",
    "X2=df.drop(columns=['UsedAgain'])\n",
    "y2=df['UsedAgain']\n",
    "X2_train, X2_test, y2_train, y2_test = train_test_split(X2, y2, test_size=0.2, random_state=42)\n",
    "logreg=LogisticRegression(max_iter=1000)\n",
    "logreg.fit(X2_train,y2_train)\n",
    "y2_pred=logreg.predict(X2_test)\n",
    "print(classification_report(y2_test,y2_pred))"
   ]
  },
  {
   "cell_type": "code",
   "execution_count": 34,
   "metadata": {
    "execution": {
     "iopub.execute_input": "2025-08-29T15:32:50.354702Z",
     "iopub.status.busy": "2025-08-29T15:32:50.354371Z",
     "iopub.status.idle": "2025-08-29T15:32:52.335730Z",
     "shell.execute_reply": "2025-08-29T15:32:52.334401Z",
     "shell.execute_reply.started": "2025-08-29T15:32:50.354680Z"
    },
    "trusted": true
   },
   "outputs": [
    {
     "name": "stdout",
     "output_type": "stream",
     "text": [
      "              precision    recall  f1-score   support\n",
      "\n",
      "           0       0.51      0.75      0.61       930\n",
      "           1       0.36      0.26      0.30       349\n",
      "           2       0.15      0.03      0.05       170\n",
      "           3       0.35      0.23      0.28       551\n",
      "\n",
      "    accuracy                           0.46      2000\n",
      "   macro avg       0.34      0.31      0.31      2000\n",
      "weighted avg       0.41      0.46      0.41      2000\n",
      "\n"
     ]
    }
   ],
   "source": [
    "#29 Train a Random Forest Classifier to predict FinalOutcome.\n",
    "rf=RandomForestClassifier(random_state=42)\n",
    "rf.fit(X_train,y_train)\n",
    "y_pred_rf=rf.predict(X_test)\n",
    "print(classification_report(y_test,y_pred_rf))"
   ]
  },
  {
   "cell_type": "code",
   "execution_count": 35,
   "metadata": {
    "execution": {
     "iopub.execute_input": "2025-08-29T15:33:15.358386Z",
     "iopub.status.busy": "2025-08-29T15:33:15.357474Z",
     "iopub.status.idle": "2025-08-29T15:33:15.593087Z",
     "shell.execute_reply": "2025-08-29T15:33:15.591677Z",
     "shell.execute_reply.started": "2025-08-29T15:33:15.358352Z"
    },
    "trusted": true
   },
   "outputs": [
    {
     "name": "stdout",
     "output_type": "stream",
     "text": [
      "              precision    recall  f1-score   support\n",
      "\n",
      "           0       0.33      0.18      0.23       615\n",
      "           1       0.70      0.84      0.76      1385\n",
      "\n",
      "    accuracy                           0.63      2000\n",
      "   macro avg       0.51      0.51      0.50      2000\n",
      "weighted avg       0.58      0.63      0.60      2000\n",
      "\n"
     ]
    }
   ],
   "source": [
    "#30 Use KNN (K-Nearest Neighbors) to classify UsedAgain.\n",
    "knn=KNeighborsClassifier()\n",
    "knn.fit(X2_train,y2_train)\n",
    "y2_pred_knn=knn.predict(X2_test)\n",
    "print(classification_report(y2_test,y2_pred_knn))"
   ]
  },
  {
   "cell_type": "code",
   "execution_count": 37,
   "metadata": {
    "execution": {
     "iopub.execute_input": "2025-08-29T15:33:53.498795Z",
     "iopub.status.busy": "2025-08-29T15:33:53.498436Z",
     "iopub.status.idle": "2025-08-29T15:33:53.529067Z",
     "shell.execute_reply": "2025-08-29T15:33:53.528107Z",
     "shell.execute_reply.started": "2025-08-29T15:33:53.498771Z"
    },
    "trusted": true
   },
   "outputs": [
    {
     "name": "stdout",
     "output_type": "stream",
     "text": [
      "              precision    recall  f1-score   support\n",
      "\n",
      "           0       0.51      0.84      0.64       930\n",
      "           1       0.37      0.32      0.35       349\n",
      "           2       0.18      0.08      0.11       170\n",
      "           3       0.38      0.05      0.10       551\n",
      "\n",
      "    accuracy                           0.47      2000\n",
      "   macro avg       0.36      0.33      0.30      2000\n",
      "weighted avg       0.42      0.47      0.39      2000\n",
      "\n"
     ]
    }
   ],
   "source": [
    "#31 Train a Naive Bayes Classifier to predict FinalOutcome.\n",
    "from sklearn.naive_bayes import GaussianNB\n",
    "nb=GaussianNB()\n",
    "nb.fit(X_train,y_train)\n",
    "y_pred_nb=nb.predict(X_test)\n",
    "print(classification_report(y_test,y_pred_nb))"
   ]
  },
  {
   "cell_type": "code",
   "execution_count": 38,
   "metadata": {
    "execution": {
     "iopub.execute_input": "2025-08-29T15:34:12.205574Z",
     "iopub.status.busy": "2025-08-29T15:34:12.205227Z",
     "iopub.status.idle": "2025-08-29T15:34:14.091572Z",
     "shell.execute_reply": "2025-08-29T15:34:14.090718Z",
     "shell.execute_reply.started": "2025-08-29T15:34:12.205547Z"
    },
    "trusted": true
   },
   "outputs": [
    {
     "name": "stdout",
     "output_type": "stream",
     "text": [
      "              precision    recall  f1-score   support\n",
      "\n",
      "           0       0.59      0.46      0.52       615\n",
      "           1       0.78      0.86      0.82      1385\n",
      "\n",
      "    accuracy                           0.73      2000\n",
      "   macro avg       0.68      0.66      0.67      2000\n",
      "weighted avg       0.72      0.73      0.72      2000\n",
      "\n"
     ]
    }
   ],
   "source": [
    "#32 Build a Gradient Boosting Classifier for UsedAgain.\n",
    "gb=GradientBoostingClassifier()\n",
    "gb.fit(X2_train,y2_train)\n",
    "y2_pred_gb=gb.predict(X2_test)\n",
    "print(classification_report(y2_test,y2_pred_gb))"
   ]
  },
  {
   "cell_type": "code",
   "execution_count": 39,
   "metadata": {
    "execution": {
     "iopub.execute_input": "2025-08-29T15:34:31.174090Z",
     "iopub.status.busy": "2025-08-29T15:34:31.173701Z",
     "iopub.status.idle": "2025-08-29T15:34:31.984029Z",
     "shell.execute_reply": "2025-08-29T15:34:31.983003Z",
     "shell.execute_reply.started": "2025-08-29T15:34:31.174066Z"
    },
    "trusted": true
   },
   "outputs": [
    {
     "name": "stdout",
     "output_type": "stream",
     "text": [
      "              precision    recall  f1-score   support\n",
      "\n",
      "           0       0.51      0.68      0.58       930\n",
      "           1       0.33      0.23      0.27       349\n",
      "           2       0.09      0.02      0.04       170\n",
      "           3       0.33      0.28      0.30       551\n",
      "\n",
      "    accuracy                           0.44      2000\n",
      "   macro avg       0.31      0.30      0.30      2000\n",
      "weighted avg       0.39      0.44      0.40      2000\n",
      "\n"
     ]
    }
   ],
   "source": [
    "#33 Apply an XGBoost Classifier to predict FinalOutcome.\n",
    "xgb=XGBClassifier()\n",
    "xgb.fit(X_train,y_train)\n",
    "y_pred_xgb=xgb.predict(X_test)\n",
    "print(classification_report(y_test,y_pred_xgb))"
   ]
  },
  {
   "cell_type": "code",
   "execution_count": 41,
   "metadata": {
    "execution": {
     "iopub.execute_input": "2025-08-29T15:34:52.208178Z",
     "iopub.status.busy": "2025-08-29T15:34:52.207744Z",
     "iopub.status.idle": "2025-08-29T15:34:52.221994Z",
     "shell.execute_reply": "2025-08-29T15:34:52.220989Z",
     "shell.execute_reply.started": "2025-08-29T15:34:52.208149Z"
    },
    "trusted": true
   },
   "outputs": [],
   "source": [
    "#34 Split the dataset into 80% training and 20% testing sets\n",
    "X_train, X_test, y_train, y_test = train_test_split(X, y, test_size=0.2, random_state=42)"
   ]
  },
  {
   "cell_type": "code",
   "execution_count": 42,
   "metadata": {
    "execution": {
     "iopub.execute_input": "2025-08-29T15:35:05.357202Z",
     "iopub.status.busy": "2025-08-29T15:35:05.356880Z",
     "iopub.status.idle": "2025-08-29T15:35:05.613699Z",
     "shell.execute_reply": "2025-08-29T15:35:05.611512Z",
     "shell.execute_reply.started": "2025-08-29T15:35:05.357181Z"
    },
    "trusted": true
   },
   "outputs": [
    {
     "name": "stdout",
     "output_type": "stream",
     "text": [
      "Accuracy: 0.3945\n",
      "[[649  77  25 179]\n",
      " [236  44   7  62]\n",
      " [130  15   2  23]\n",
      " [408  43   6  94]]\n"
     ]
    }
   ],
   "source": [
    "#35 Evaluate one model using accuracy and a confusion matrix.\n",
    "from sklearn.metrics import accuracy_score, confusion_matrix\n",
    "# Train KNN\n",
    "knn = KNeighborsClassifier(n_neighbors=5)\n",
    "knn.fit(X_train, y_train)\n",
    "\n",
    "# Predict\n",
    "y_pred = knn.predict(X_test)\n",
    "\n",
    "# Evaluate\n",
    "accuracy = accuracy_score(y_test, y_pred)\n",
    "print(f\"Accuracy: {accuracy}\")\n",
    "print(confusion_matrix(y_test, y_pred))\n"
   ]
  },
  {
   "cell_type": "code",
   "execution_count": 43,
   "metadata": {
    "execution": {
     "iopub.execute_input": "2025-08-29T15:35:21.426830Z",
     "iopub.status.busy": "2025-08-29T15:35:21.426459Z",
     "iopub.status.idle": "2025-08-29T15:35:21.445209Z",
     "shell.execute_reply": "2025-08-29T15:35:21.443580Z",
     "shell.execute_reply.started": "2025-08-29T15:35:21.426805Z"
    },
    "trusted": true
   },
   "outputs": [
    {
     "name": "stdout",
     "output_type": "stream",
     "text": [
      "              precision    recall  f1-score   support\n",
      "\n",
      "           0       0.46      0.70      0.55       930\n",
      "           1       0.25      0.13      0.17       349\n",
      "           2       0.05      0.01      0.02       170\n",
      "           3       0.26      0.17      0.21       551\n",
      "\n",
      "    accuracy                           0.39      2000\n",
      "   macro avg       0.25      0.25      0.24      2000\n",
      "weighted avg       0.33      0.39      0.34      2000\n",
      "\n"
     ]
    }
   ],
   "source": [
    "#36 Generate a classification report (precision, recall, f1-score).\n",
    "print(classification_report(y_test, y_pred))"
   ]
  },
  {
   "cell_type": "markdown",
   "metadata": {},
   "source": [
    "#### Part F: Model Evaluation & Hyperparameter Tuning\n"
   ]
  },
  {
   "cell_type": "code",
   "execution_count": 44,
   "metadata": {
    "execution": {
     "iopub.execute_input": "2025-08-29T15:35:58.061772Z",
     "iopub.status.busy": "2025-08-29T15:35:58.061432Z",
     "iopub.status.idle": "2025-08-29T15:36:01.414870Z",
     "shell.execute_reply": "2025-08-29T15:36:01.413960Z",
     "shell.execute_reply.started": "2025-08-29T15:35:58.061750Z"
    },
    "trusted": true
   },
   "outputs": [
    {
     "name": "stdout",
     "output_type": "stream",
     "text": [
      "Cross-Validation Scores: [0.7065 0.7065 0.7065 0.7065 0.706 ]\n"
     ]
    }
   ],
   "source": [
    "#37 Perform cross-validation for Logistic Regression.\n",
    "from sklearn.model_selection import cross_val_score\n",
    "logreg = LogisticRegression(max_iter=1000)\n",
    "cv_scores = cross_val_score(logreg, X2, y2, cv=5)\n",
    "print(\"Cross-Validation Scores:\",cv_scores)"
   ]
  },
  {
   "cell_type": "code",
   "execution_count": 45,
   "metadata": {
    "execution": {
     "iopub.execute_input": "2025-08-29T15:36:37.254078Z",
     "iopub.status.busy": "2025-08-29T15:36:37.253754Z",
     "iopub.status.idle": "2025-08-29T15:36:49.465730Z",
     "shell.execute_reply": "2025-08-29T15:36:49.464724Z",
     "shell.execute_reply.started": "2025-08-29T15:36:37.254056Z"
    },
    "trusted": true
   },
   "outputs": [
    {
     "name": "stdout",
     "output_type": "stream",
     "text": [
      "Best Hyperparameters: {'max_depth': 10, 'min_samples_leaf': 2, 'min_samples_split': 5}\n"
     ]
    }
   ],
   "source": [
    "#38 Use GridSearchCV to tune hyperparameters of a Decision Tree.\n",
    "from sklearn.model_selection import GridSearchCV\n",
    "param_grid = {\n",
    "    'max_depth': [None, 10, 20, 30],\n",
    "    'min_samples_split': [2, 5, 10],\n",
    "    \"min_samples_leaf\": [1, 2, 4],\n",
    "}\n",
    "dtree = DecisionTreeClassifier()\n",
    "grid_search = GridSearchCV(dtree, param_grid, cv=5)\n",
    "grid_search.fit(X_train, y_train)\n",
    "best_params = grid_search.best_params_\n",
    "print(\"Best Hyperparameters:\", best_params)\n"
   ]
  },
  {
   "cell_type": "code",
   "execution_count": 46,
   "metadata": {
    "execution": {
     "iopub.execute_input": "2025-08-29T15:37:12.538423Z",
     "iopub.status.busy": "2025-08-29T15:37:12.538114Z",
     "iopub.status.idle": "2025-08-29T15:38:32.511837Z",
     "shell.execute_reply": "2025-08-29T15:38:32.510584Z",
     "shell.execute_reply.started": "2025-08-29T15:37:12.538400Z"
    },
    "trusted": true
   },
   "outputs": [
    {
     "name": "stdout",
     "output_type": "stream",
     "text": [
      "Best Hyperparameters: {'max_depth': 10, 'n_estimators': 200}\n"
     ]
    }
   ],
   "source": [
    "#39 Tune a Random Forest Classifier (n_estimators, max_depth).\n",
    "# Define parameter grid\n",
    "param_grid = {\n",
    "    'n_estimators': [50, 100, 200],   # number of trees\n",
    "    'max_depth': [None, 5, 10, 20]    # tree depth\n",
    "}\n",
    "rf = RandomForestClassifier()\n",
    "grid_search = GridSearchCV(rf, param_grid, cv=5)\n",
    "grid_search.fit(X_train, y_train)\n",
    "best_params = grid_search.best_params_\n",
    "print(\"Best Hyperparameters:\", best_params)"
   ]
  },
  {
   "cell_type": "code",
   "execution_count": 49,
   "metadata": {
    "execution": {
     "iopub.execute_input": "2025-08-29T15:38:46.220589Z",
     "iopub.status.busy": "2025-08-29T15:38:46.220256Z",
     "iopub.status.idle": "2025-08-29T15:38:46.233947Z",
     "shell.execute_reply": "2025-08-29T15:38:46.232047Z",
     "shell.execute_reply.started": "2025-08-29T15:38:46.220567Z"
    },
    "trusted": true
   },
   "outputs": [],
   "source": [
    "#40 Compare Logistic Regression, Decision Tree, Random Forest, Naive Bayes, KNN, Gradient Boosting, and XGBoost for predicting UsedAgain.\n",
    "X2=df.drop(columns=['UsedAgain'])\n",
    "y2=df['UsedAgain']\n",
    "X2_train, X2_test, y2_train, y2_test = train_test_split(X2, y2, test_size=0.2, random_state=42)"
   ]
  },
  {
   "cell_type": "code",
   "execution_count": 51,
   "metadata": {
    "execution": {
     "iopub.execute_input": "2025-08-29T15:38:55.806985Z",
     "iopub.status.busy": "2025-08-29T15:38:55.806551Z",
     "iopub.status.idle": "2025-08-29T15:38:55.813613Z",
     "shell.execute_reply": "2025-08-29T15:38:55.812387Z",
     "shell.execute_reply.started": "2025-08-29T15:38:55.806959Z"
    },
    "trusted": true
   },
   "outputs": [],
   "source": [
    "# Step 2: Define Models\n",
    "\n",
    "tree = DecisionTreeClassifier(random_state=42)\n",
    "rf = RandomForestClassifier(n_estimators=100, random_state=42)\n",
    "log_reg = LogisticRegression(max_iter=1000, random_state=42)\n",
    "gb = GradientBoostingClassifier(random_state=42)\n",
    "nb = GaussianNB()\n",
    "xgb=XGBClassifier()\n",
    "knn = KNeighborsClassifier(n_neighbors=5)\n",
    "\n",
    "models= [tree,rf, log_reg, gb, nb, xgb,knn ]"
   ]
  },
  {
   "cell_type": "markdown",
   "metadata": {
    "execution": {
     "iopub.execute_input": "2025-08-29T15:39:01.099430Z",
     "iopub.status.busy": "2025-08-29T15:39:01.099061Z",
     "iopub.status.idle": "2025-08-29T15:39:18.571181Z",
     "shell.execute_reply": "2025-08-29T15:39:18.569860Z",
     "shell.execute_reply.started": "2025-08-29T15:39:01.099389Z"
    }
   },
   "source": [
    "for model in models:\n",
    "  print(f\"Training Model: {model}\")\n",
    "  print(\"*\"*50)\n",
    "  mol = model.fit(X_train, y_train)\n",
    "  print(f\"Predicting on Model: {model}\")\n",
    "  pred= mol.predict(X_test)\n",
    "  print(\"*\"*50)\n",
    "  print(f\"classification Report for Model: {model}\")\n",
    "  print(\"*\"*50)\n",
    "  print(classification_report(y_test, pred))\n",
    "  print(\"*\"*50)"
   ]
  }
 ],
 "metadata": {
  "kaggle": {
   "accelerator": "none",
   "dataSources": [
    {
     "datasetId": 7738514,
     "sourceId": 12279587,
     "sourceType": "datasetVersion"
    }
   ],
   "dockerImageVersionId": 31089,
   "isGpuEnabled": false,
   "isInternetEnabled": false,
   "language": "python",
   "sourceType": "notebook"
  },
  "kernelspec": {
   "display_name": "Python 3",
   "language": "python",
   "name": "python3"
  },
  "language_info": {
   "codemirror_mode": {
    "name": "ipython",
    "version": 3
   },
   "file_extension": ".py",
   "mimetype": "text/x-python",
   "name": "python",
   "nbconvert_exporter": "python",
   "pygments_lexer": "ipython3",
   "version": "3.11.13"
  }
 },
 "nbformat": 4,
 "nbformat_minor": 4
}
